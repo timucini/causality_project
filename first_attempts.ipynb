{
 "cells": [
  {
   "cell_type": "markdown",
   "source": [
    "The basic idea is to compare two processes of the same origin. To do this, we first examined the resources publicly available on the Internet. Since this use case is rather uncommon, we found that the possibilities are quickly exhausted. However, research and feedback revealed that probably the BPI, which holds an annual contest, used the same data source twice. Under this guise, we were able to find the following sources:\r\n",
    "\r\n",
    "| Challange | Link | File |\r\n",
    "|:--- |:--- |:--- |\r\n",
    "| 2012 | https://www.win.tue.nl/bpi/doku.php?id=2012:challenge | financial_log.xes.gz |\r\n",
    "| 2017 | https://www.win.tue.nl/bpi/doku.php?id=2017:challenge | BPI Challenge 2017.xes.gz |"
   ],
   "metadata": {}
  },
  {
   "cell_type": "code",
   "execution_count": 1,
   "source": [
    "from pm4py import read_xes\r\n",
    "from pm4py import convert_to_dataframe as as_frame\r\n",
    "from environment import *\r\n",
    "bpi2012 = as_frame(read_xes(str(XES_LOGS_DIR_PATH/'financial_log.xes.gz')))\r\n",
    "bpi2017 = as_frame(read_xes(str(XES_LOGS_DIR_PATH/'BPI Challenge 2017.xes.gz')))"
   ],
   "outputs": [
    {
     "output_type": "stream",
     "name": "stderr",
     "text": [
      "parsing log, completed traces :: 100%|██████████| 13087/13087 [00:05<00:00, 2232.13it/s]\n",
      "parsing log, completed traces :: 100%|██████████| 31509/31509 [00:37<00:00, 849.46it/s]\n"
     ]
    }
   ],
   "metadata": {}
  },
  {
   "cell_type": "code",
   "execution_count": 2,
   "source": [
    "print('BPI 2012')\r\n",
    "bpi2012.describe().style"
   ],
   "outputs": [
    {
     "output_type": "stream",
     "name": "stdout",
     "text": [
      "BPI 2012\n"
     ]
    },
    {
     "output_type": "execute_result",
     "data": {
      "text/plain": [
       "<pandas.io.formats.style.Styler at 0x25026ca0bb0>"
      ],
      "text/html": [
       "<style  type=\"text/css\" >\n",
       "</style><table id=\"T_8ccb2_\" ><thead>    <tr>        <th class=\"blank level0\" ></th>        <th class=\"col_heading level0 col0\" >org:resource</th>        <th class=\"col_heading level0 col1\" >lifecycle:transition</th>        <th class=\"col_heading level0 col2\" >concept:name</th>        <th class=\"col_heading level0 col3\" >time:timestamp</th>        <th class=\"col_heading level0 col4\" >case:REG_DATE</th>        <th class=\"col_heading level0 col5\" >case:concept:name</th>        <th class=\"col_heading level0 col6\" >case:AMOUNT_REQ</th>    </tr></thead><tbody>\n",
       "                <tr>\n",
       "                        <th id=\"T_8ccb2_level0_row0\" class=\"row_heading level0 row0\" >count</th>\n",
       "                        <td id=\"T_8ccb2_row0_col0\" class=\"data row0 col0\" >244190</td>\n",
       "                        <td id=\"T_8ccb2_row0_col1\" class=\"data row0 col1\" >262200</td>\n",
       "                        <td id=\"T_8ccb2_row0_col2\" class=\"data row0 col2\" >262200</td>\n",
       "                        <td id=\"T_8ccb2_row0_col3\" class=\"data row0 col3\" >262200</td>\n",
       "                        <td id=\"T_8ccb2_row0_col4\" class=\"data row0 col4\" >262200</td>\n",
       "                        <td id=\"T_8ccb2_row0_col5\" class=\"data row0 col5\" >262200</td>\n",
       "                        <td id=\"T_8ccb2_row0_col6\" class=\"data row0 col6\" >262200</td>\n",
       "            </tr>\n",
       "            <tr>\n",
       "                        <th id=\"T_8ccb2_level0_row1\" class=\"row_heading level0 row1\" >unique</th>\n",
       "                        <td id=\"T_8ccb2_row1_col0\" class=\"data row1 col0\" >68</td>\n",
       "                        <td id=\"T_8ccb2_row1_col1\" class=\"data row1 col1\" >3</td>\n",
       "                        <td id=\"T_8ccb2_row1_col2\" class=\"data row1 col2\" >24</td>\n",
       "                        <td id=\"T_8ccb2_row1_col3\" class=\"data row1 col3\" >248189</td>\n",
       "                        <td id=\"T_8ccb2_row1_col4\" class=\"data row1 col4\" >13087</td>\n",
       "                        <td id=\"T_8ccb2_row1_col5\" class=\"data row1 col5\" >13087</td>\n",
       "                        <td id=\"T_8ccb2_row1_col6\" class=\"data row1 col6\" >631</td>\n",
       "            </tr>\n",
       "            <tr>\n",
       "                        <th id=\"T_8ccb2_level0_row2\" class=\"row_heading level0 row2\" >top</th>\n",
       "                        <td id=\"T_8ccb2_row2_col0\" class=\"data row2 col0\" >112</td>\n",
       "                        <td id=\"T_8ccb2_row2_col1\" class=\"data row2 col1\" >COMPLETE</td>\n",
       "                        <td id=\"T_8ccb2_row2_col2\" class=\"data row2 col2\" >W_Completeren aanvraag</td>\n",
       "                        <td id=\"T_8ccb2_row2_col3\" class=\"data row2 col3\" >2011-11-16 12:54:02.245000+01:00</td>\n",
       "                        <td id=\"T_8ccb2_row2_col4\" class=\"data row2 col4\" >2011-11-15 13:42:45.592000+01:00</td>\n",
       "                        <td id=\"T_8ccb2_row2_col5\" class=\"data row2 col5\" >185548</td>\n",
       "                        <td id=\"T_8ccb2_row2_col6\" class=\"data row2 col6\" >5000</td>\n",
       "            </tr>\n",
       "            <tr>\n",
       "                        <th id=\"T_8ccb2_level0_row3\" class=\"row_heading level0 row3\" >freq</th>\n",
       "                        <td id=\"T_8ccb2_row3_col0\" class=\"data row3 col0\" >45687</td>\n",
       "                        <td id=\"T_8ccb2_row3_col1\" class=\"data row3 col1\" >164506</td>\n",
       "                        <td id=\"T_8ccb2_row3_col2\" class=\"data row3 col2\" >54850</td>\n",
       "                        <td id=\"T_8ccb2_row3_col3\" class=\"data row3 col3\" >4</td>\n",
       "                        <td id=\"T_8ccb2_row3_col4\" class=\"data row3 col4\" >175</td>\n",
       "                        <td id=\"T_8ccb2_row3_col5\" class=\"data row3 col5\" >175</td>\n",
       "                        <td id=\"T_8ccb2_row3_col6\" class=\"data row3 col6\" >32988</td>\n",
       "            </tr>\n",
       "    </tbody></table>"
      ]
     },
     "metadata": {},
     "execution_count": 2
    }
   ],
   "metadata": {}
  },
  {
   "cell_type": "code",
   "execution_count": 3,
   "source": [
    "print('BPI 2017')\r\n",
    "bpi2017.describe().style"
   ],
   "outputs": [
    {
     "output_type": "stream",
     "name": "stdout",
     "text": [
      "BPI 2017\n"
     ]
    },
    {
     "output_type": "execute_result",
     "data": {
      "text/plain": [
       "<pandas.io.formats.style.Styler at 0x24f00f36130>"
      ],
      "text/html": [
       "<style  type=\"text/css\" >\n",
       "</style><table id=\"T_beb90_\" ><thead>    <tr>        <th class=\"blank level0\" ></th>        <th class=\"col_heading level0 col0\" >case:RequestedAmount</th>        <th class=\"col_heading level0 col1\" >FirstWithdrawalAmount</th>        <th class=\"col_heading level0 col2\" >NumberOfTerms</th>        <th class=\"col_heading level0 col3\" >MonthlyCost</th>        <th class=\"col_heading level0 col4\" >CreditScore</th>        <th class=\"col_heading level0 col5\" >OfferedAmount</th>    </tr></thead><tbody>\n",
       "                <tr>\n",
       "                        <th id=\"T_beb90_level0_row0\" class=\"row_heading level0 row0\" >count</th>\n",
       "                        <td id=\"T_beb90_row0_col0\" class=\"data row0 col0\" >1202267.000000</td>\n",
       "                        <td id=\"T_beb90_row0_col1\" class=\"data row0 col1\" >42995.000000</td>\n",
       "                        <td id=\"T_beb90_row0_col2\" class=\"data row0 col2\" >42995.000000</td>\n",
       "                        <td id=\"T_beb90_row0_col3\" class=\"data row0 col3\" >42995.000000</td>\n",
       "                        <td id=\"T_beb90_row0_col4\" class=\"data row0 col4\" >42995.000000</td>\n",
       "                        <td id=\"T_beb90_row0_col5\" class=\"data row0 col5\" >42995.000000</td>\n",
       "            </tr>\n",
       "            <tr>\n",
       "                        <th id=\"T_beb90_level0_row1\" class=\"row_heading level0 row1\" >mean</th>\n",
       "                        <td id=\"T_beb90_row1_col0\" class=\"data row1 col0\" >16759.465181</td>\n",
       "                        <td id=\"T_beb90_row1_col1\" class=\"data row1 col1\" >8394.338979</td>\n",
       "                        <td id=\"T_beb90_row1_col2\" class=\"data row1 col2\" >83.041982</td>\n",
       "                        <td id=\"T_beb90_row1_col3\" class=\"data row1 col3\" >281.403309</td>\n",
       "                        <td id=\"T_beb90_row1_col4\" class=\"data row1 col4\" >318.645912</td>\n",
       "                        <td id=\"T_beb90_row1_col5\" class=\"data row1 col5\" >18513.719940</td>\n",
       "            </tr>\n",
       "            <tr>\n",
       "                        <th id=\"T_beb90_level0_row2\" class=\"row_heading level0 row2\" >std</th>\n",
       "                        <td id=\"T_beb90_row2_col0\" class=\"data row2 col0\" >15723.198017</td>\n",
       "                        <td id=\"T_beb90_row2_col1\" class=\"data row2 col1\" >10852.443358</td>\n",
       "                        <td id=\"T_beb90_row2_col2\" class=\"data row2 col2\" >36.386199</td>\n",
       "                        <td id=\"T_beb90_row2_col3\" class=\"data row2 col3\" >192.577735</td>\n",
       "                        <td id=\"T_beb90_row2_col4\" class=\"data row2 col4\" >433.706216</td>\n",
       "                        <td id=\"T_beb90_row2_col5\" class=\"data row2 col5\" >13718.507416</td>\n",
       "            </tr>\n",
       "            <tr>\n",
       "                        <th id=\"T_beb90_level0_row3\" class=\"row_heading level0 row3\" >min</th>\n",
       "                        <td id=\"T_beb90_row3_col0\" class=\"data row3 col0\" >0.000000</td>\n",
       "                        <td id=\"T_beb90_row3_col1\" class=\"data row3 col1\" >0.000000</td>\n",
       "                        <td id=\"T_beb90_row3_col2\" class=\"data row3 col2\" >5.000000</td>\n",
       "                        <td id=\"T_beb90_row3_col3\" class=\"data row3 col3\" >43.050000</td>\n",
       "                        <td id=\"T_beb90_row3_col4\" class=\"data row3 col4\" >0.000000</td>\n",
       "                        <td id=\"T_beb90_row3_col5\" class=\"data row3 col5\" >5000.000000</td>\n",
       "            </tr>\n",
       "            <tr>\n",
       "                        <th id=\"T_beb90_level0_row4\" class=\"row_heading level0 row4\" >25%</th>\n",
       "                        <td id=\"T_beb90_row4_col0\" class=\"data row4 col0\" >6000.000000</td>\n",
       "                        <td id=\"T_beb90_row4_col1\" class=\"data row4 col1\" >0.000000</td>\n",
       "                        <td id=\"T_beb90_row4_col2\" class=\"data row4 col2\" >56.000000</td>\n",
       "                        <td id=\"T_beb90_row4_col3\" class=\"data row4 col3\" >152.820000</td>\n",
       "                        <td id=\"T_beb90_row4_col4\" class=\"data row4 col4\" >0.000000</td>\n",
       "                        <td id=\"T_beb90_row4_col5\" class=\"data row4 col5\" >8800.000000</td>\n",
       "            </tr>\n",
       "            <tr>\n",
       "                        <th id=\"T_beb90_level0_row5\" class=\"row_heading level0 row5\" >50%</th>\n",
       "                        <td id=\"T_beb90_row5_col0\" class=\"data row5 col0\" >14000.000000</td>\n",
       "                        <td id=\"T_beb90_row5_col1\" class=\"data row5 col1\" >5000.000000</td>\n",
       "                        <td id=\"T_beb90_row5_col2\" class=\"data row5 col2\" >77.000000</td>\n",
       "                        <td id=\"T_beb90_row5_col3\" class=\"data row5 col3\" >244.520000</td>\n",
       "                        <td id=\"T_beb90_row5_col4\" class=\"data row5 col4\" >0.000000</td>\n",
       "                        <td id=\"T_beb90_row5_col5\" class=\"data row5 col5\" >15000.000000</td>\n",
       "            </tr>\n",
       "            <tr>\n",
       "                        <th id=\"T_beb90_level0_row6\" class=\"row_heading level0 row6\" >75%</th>\n",
       "                        <td id=\"T_beb90_row6_col0\" class=\"data row6 col0\" >23000.000000</td>\n",
       "                        <td id=\"T_beb90_row6_col1\" class=\"data row6 col1\" >12000.000000</td>\n",
       "                        <td id=\"T_beb90_row6_col2\" class=\"data row6 col2\" >120.000000</td>\n",
       "                        <td id=\"T_beb90_row6_col3\" class=\"data row6 col3\" >350.000000</td>\n",
       "                        <td id=\"T_beb90_row6_col4\" class=\"data row6 col4\" >848.000000</td>\n",
       "                        <td id=\"T_beb90_row6_col5\" class=\"data row6 col5\" >25000.000000</td>\n",
       "            </tr>\n",
       "            <tr>\n",
       "                        <th id=\"T_beb90_level0_row7\" class=\"row_heading level0 row7\" >max</th>\n",
       "                        <td id=\"T_beb90_row7_col0\" class=\"data row7 col0\" >450000.000000</td>\n",
       "                        <td id=\"T_beb90_row7_col1\" class=\"data row7 col1\" >75000.000000</td>\n",
       "                        <td id=\"T_beb90_row7_col2\" class=\"data row7 col2\" >180.000000</td>\n",
       "                        <td id=\"T_beb90_row7_col3\" class=\"data row7 col3\" >6673.830000</td>\n",
       "                        <td id=\"T_beb90_row7_col4\" class=\"data row7 col4\" >1145.000000</td>\n",
       "                        <td id=\"T_beb90_row7_col5\" class=\"data row7 col5\" >75000.000000</td>\n",
       "            </tr>\n",
       "    </tbody></table>"
      ]
     },
     "metadata": {},
     "execution_count": 3
    }
   ],
   "metadata": {}
  },
  {
   "cell_type": "markdown",
   "source": [
    "To get a better understanding of this processes it will be helpful to display the activities. According to pm4py the activities are marked as `'concept:name'` and the cases are marked as `'case:concept:name'`"
   ],
   "metadata": {}
  },
  {
   "cell_type": "code",
   "execution_count": 4,
   "source": [
    "case_id = 'case:concept:name'\r\n",
    "activity_id = 'concept:name'\r\n",
    "\r\n",
    "print('bpi2012: num of cases:',len(bpi2012[case_id].unique()))\r\n",
    "print('bpi2017: num of cases:',len(bpi2017[case_id].unique()))\r\n",
    "bpi2012_activities = bpi2012[activity_id].unique()\r\n",
    "bpi2017_activities = bpi2017[activity_id].unique()\r\n",
    "print('bpi2012: num of possible activities:',len(bpi2012_activities))\r\n",
    "print('bpi2017: num of possible activities:',len(bpi2017_activities))\r\n",
    "print(sorted(bpi2012_activities))\r\n",
    "print(sorted(bpi2017_activities))"
   ],
   "outputs": [
    {
     "output_type": "stream",
     "name": "stdout",
     "text": [
      "bpi2012: num of cases: 13087\n",
      "bpi2017: num of cases: 31509\n",
      "bpi2012: num of possible activities: 24\n",
      "bpi2017: num of possible activities: 26\n",
      "['A_ACCEPTED', 'A_ACTIVATED', 'A_APPROVED', 'A_CANCELLED', 'A_DECLINED', 'A_FINALIZED', 'A_PARTLYSUBMITTED', 'A_PREACCEPTED', 'A_REGISTERED', 'A_SUBMITTED', 'O_ACCEPTED', 'O_CANCELLED', 'O_CREATED', 'O_DECLINED', 'O_SELECTED', 'O_SENT', 'O_SENT_BACK', 'W_Afhandelen leads', 'W_Beoordelen fraude', 'W_Completeren aanvraag', 'W_Nabellen incomplete dossiers', 'W_Nabellen offertes', 'W_Valideren aanvraag', 'W_Wijzigen contractgegevens']\n",
      "['A_Accepted', 'A_Cancelled', 'A_Complete', 'A_Concept', 'A_Create Application', 'A_Denied', 'A_Incomplete', 'A_Pending', 'A_Submitted', 'A_Validating', 'O_Accepted', 'O_Cancelled', 'O_Create Offer', 'O_Created', 'O_Refused', 'O_Returned', 'O_Sent (mail and online)', 'O_Sent (online only)', 'W_Assess potential fraud', 'W_Call after offers', 'W_Call incomplete files', 'W_Complete application', 'W_Handle leads', 'W_Personal Loan collection', 'W_Shortened completion ', 'W_Validate application']\n"
     ]
    }
   ],
   "metadata": {}
  },
  {
   "cell_type": "markdown",
   "source": [
    "With so many possible activities and differences in language between the two processes, it is really hard to understand the changes in the process. For this project, it may take too lang to fully understand these processes. Therefore, we decided to take a different approach."
   ],
   "metadata": {}
  }
 ],
 "metadata": {
  "orig_nbformat": 4,
  "language_info": {
   "name": "python",
   "version": "3.8.7",
   "mimetype": "text/x-python",
   "codemirror_mode": {
    "name": "ipython",
    "version": 3
   },
   "pygments_lexer": "ipython3",
   "nbconvert_exporter": "python",
   "file_extension": ".py"
  },
  "kernelspec": {
   "name": "python3",
   "display_name": "Python 3.8.7 64-bit"
  },
  "interpreter": {
   "hash": "1320575ca659531d6c822f03cc70ca5358e10b1b7df17adef811d6bdce8e5d4c"
  }
 },
 "nbformat": 4,
 "nbformat_minor": 2
}