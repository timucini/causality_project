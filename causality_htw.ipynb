{
 "cells": [
  {
   "source": [
    "# Prozess Causality Project\n",
    "## Environment Setup"
   ],
   "cell_type": "markdown",
   "metadata": {}
  },
  {
   "cell_type": "code",
   "execution_count": 1,
   "id": "cde8854b",
   "metadata": {},
   "outputs": [],
   "source": [
    "import pandas as pd\n",
    "import pm4py as pm\n",
    "from path import path\n",
    "\n",
    "xes_directory = path/'xes_logs'\n",
    "csv_directory = path/'csv_logs'\n",
    "case_tables_directory = path/'case_tables'\n",
    "\n",
    "unchanged_process_xes = xes_directory/'financial_log.xes.gz'\n",
    "changed_process_xes = xes_directory/'BPI Challenge 2017.xes.gz'"
   ]
  },
  {
   "source": [
    "## Loading\n",
    "First of all we should load our event logs. Additionally the loaded logs will be transformed to a pandas dataframe and saved as a csv file."
   ],
   "cell_type": "markdown",
   "metadata": {}
  },
  {
   "cell_type": "code",
   "execution_count": 2,
   "metadata": {},
   "outputs": [
    {
     "output_type": "stream",
     "name": "stderr",
     "text": [
      "parsing log, completed traces :: 100%|██████████| 13087/13087 [00:05<00:00, 2237.70it/s]\n",
      "parsing log, completed traces :: 100%|██████████| 31509/31509 [00:35<00:00, 880.82it/s]\n"
     ]
    }
   ],
   "source": [
    "unchanged_log = pm.read_xes(str(unchanged_process_xes))\n",
    "changed_log = pm.read_xes(str(changed_process_xes))\n",
    "\n",
    "unchanged_frame = pm.convert_to_dataframe(unchanged_log)\n",
    "changed_frame = pm.convert_to_dataframe(changed_log)\n",
    "\n",
    "unchanged_frame.to_csv(csv_directory/(unchanged_process_xes.stem+'.csv'))\n",
    "changed_frame.to_csv(csv_directory/(changed_process_xes.stem+'.csv'))"
   ]
  },
  {
   "source": [
    "## Case Tables\n",
    "The next thing to do is to create a case table, where the case informations are mapped to a kpi. For example we are using the absolute passed time from start of the process to end of the process."
   ],
   "cell_type": "markdown",
   "metadata": {}
  },
  {
   "cell_type": "code",
   "execution_count": 5,
   "metadata": {},
   "outputs": [],
   "source": [
    "\n",
    "case_id = 'case:concept:name'\n",
    "activity_names = 'concept:name'\n",
    "\n",
    "unchanged_cases = unchanged_frame[case_id].unique().tolist()\n",
    "unchanged_activities = unchanged_frame[activity_names].drop_duplicates()\n",
    "\n",
    "changed_cases = changed_frame[case_id].unique().tolist()\n",
    "changed_activities = changed_frame[activity_names].drop_duplicates()\n",
    "\n",
    "def to_case_table(cases, activities, frame):\n",
    "    case_table = []\n",
    "    for case in cases:\n",
    "        case_log = frame[frame[case_id]==case]\n",
    "        time = (case_log['time:timestamp'].max()-case_log['time:timestamp'].min()).total_seconds()/60/60\n",
    "        keys = activities.to_list()\n",
    "        values = activities.isin(case_log[activity_names]).to_list()\n",
    "        for key in pd.Series(keys)[values]:\n",
    "            values[keys.index(key)] = len(case_log[case_log[activity_names]==key])\n",
    "        for i in range(0,len(values)):\n",
    "            values[i] = int(values[i])\n",
    "        case_entry = dict(zip(['case_id']+keys+['time'],[case]+values+[time]))\n",
    "        case_table.append(case_entry)\n",
    "    return pd.DataFrame(case_table)\n",
    "\n",
    "unchanged_case_table = pd.DataFrame(to_case_table(unchanged_cases, unchanged_activities, unchanged_frame))\n",
    "unchanged_case_table.to_csv(case_tables_directory/(unchanged_process_xes.stem+'case_table.csv'))\n",
    "\n",
    "changed_case_table = pd.DataFrame(to_case_table(changed_cases, changed_activities, changed_frame))\n",
    "changed_case_table.to_csv(case_tables_directory/(changed_process_xes.stem+'case_table.csv'))"
   ]
  },
  {
   "cell_type": "code",
   "execution_count": null,
   "metadata": {},
   "outputs": [],
   "source": []
  }
 ],
 "metadata": {
  "kernelspec": {
   "name": "python387jvsc74a57bd01320575ca659531d6c822f03cc70ca5358e10b1b7df17adef811d6bdce8e5d4c",
   "display_name": "Python 3.8.7 64-bit"
  },
  "language_info": {
   "codemirror_mode": {
    "name": "ipython",
    "version": 3
   },
   "file_extension": ".py",
   "mimetype": "text/x-python",
   "name": "python",
   "nbconvert_exporter": "python",
   "pygments_lexer": "ipython3",
   "version": "3.8.7"
  },
  "metadata": {
   "interpreter": {
    "hash": "1320575ca659531d6c822f03cc70ca5358e10b1b7df17adef811d6bdce8e5d4c"
   }
  }
 },
 "nbformat": 4,
 "nbformat_minor": 5
}