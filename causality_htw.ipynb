{
 "cells": [
  {
   "cell_type": "code",
   "execution_count": 1,
   "source": [
    "from pandas import set_option\r\n",
    "set_option('display.expand_frame_repr', False)"
   ],
   "outputs": [],
   "metadata": {}
  },
  {
   "cell_type": "markdown",
   "source": [
    "# Prozess Causality Project\n",
    "## First attempts\n",
    "The basic idea is to compare two processes of the same origin. To do this, we first examined the resources publicly available on the Internet. Since this use case is rather uncommon, we found that the possibilities are quickly exhausted. However, the research and feedback revealed that probably the BPI, which organizes an annual challange, used the same data source twice. Under this pretext, we were able to find the following sources:\n",
    "\n",
    "| Challange | Link | File |\n",
    "|:--- |:--- |:--- |\n",
    "| 2012 | https://www.win.tue.nl/bpi/doku.php?id=2012:challenge | financial_log.xes.gz |\n",
    "| 2017 | https://www.win.tue.nl/bpi/doku.php?id=2017:challenge | BPI Challenge 2017.xes.gz |\n"
   ],
   "metadata": {}
  },
  {
   "cell_type": "code",
   "execution_count": 2,
   "source": [
    "from pm4py import read_xes\r\n",
    "from pm4py import convert_to_dataframe as as_frame\r\n",
    "from environment import *\r\n",
    "bpi2012 = as_frame(read_xes(str(XES_LOGS_DIR_PATH/'financial_log.xes.gz')))\r\n",
    "bpi2017 = as_frame(read_xes(str(XES_LOGS_DIR_PATH/'BPI Challenge 2017.xes.gz')))\r\n",
    "print(bpi2012)\r\n",
    "print(bpi2017)"
   ],
   "outputs": [
    {
     "output_type": "stream",
     "name": "stderr",
     "text": [
      "parsing log, completed traces :: 100%|██████████| 13087/13087 [00:06<00:00, 2178.26it/s]\n",
      "parsing log, completed traces :: 100%|██████████| 31509/31509 [00:36<00:00, 861.63it/s] \n"
     ]
    },
    {
     "output_type": "stream",
     "name": "stdout",
     "text": [
      "       org:resource lifecycle:transition            concept:name                    time:timestamp                     case:REG_DATE case:concept:name case:AMOUNT_REQ\n",
      "0               112             COMPLETE             A_SUBMITTED  2011-10-01 00:38:44.546000+02:00  2011-10-01 00:38:44.546000+02:00            173688           20000\n",
      "1               112             COMPLETE       A_PARTLYSUBMITTED  2011-10-01 00:38:44.880000+02:00  2011-10-01 00:38:44.546000+02:00            173688           20000\n",
      "2               112             COMPLETE           A_PREACCEPTED  2011-10-01 00:39:37.906000+02:00  2011-10-01 00:38:44.546000+02:00            173688           20000\n",
      "3               112             SCHEDULE  W_Completeren aanvraag  2011-10-01 00:39:38.875000+02:00  2011-10-01 00:38:44.546000+02:00            173688           20000\n",
      "4               NaN                START  W_Completeren aanvraag  2011-10-01 11:36:46.437000+02:00  2011-10-01 00:38:44.546000+02:00            173688           20000\n",
      "...             ...                  ...                     ...                               ...                               ...               ...             ...\n",
      "262195          112             COMPLETE       A_PARTLYSUBMITTED  2012-02-29 23:51:17.423000+01:00  2012-02-29 23:51:16.799000+01:00            214376           15000\n",
      "262196          112             SCHEDULE      W_Afhandelen leads  2012-02-29 23:52:01.287000+01:00  2012-02-29 23:51:16.799000+01:00            214376           15000\n",
      "262197        11169                START      W_Afhandelen leads  2012-03-01 09:26:46.736000+01:00  2012-02-29 23:51:16.799000+01:00            214376           15000\n",
      "262198        11169             COMPLETE              A_DECLINED  2012-03-01 09:27:37.118000+01:00  2012-02-29 23:51:16.799000+01:00            214376           15000\n",
      "262199        11169             COMPLETE      W_Afhandelen leads  2012-03-01 09:27:41.325000+01:00  2012-02-29 23:51:16.799000+01:00            214376           15000\n",
      "\n",
      "[262200 rows x 7 columns]\n",
      "              Action org:resource            concept:name  EventOrigin                EventID lifecycle:transition                   time:timestamp           case:LoanGoal case:ApplicationType       case:concept:name  case:RequestedAmount  FirstWithdrawalAmount  NumberOfTerms Accepted  MonthlyCost Selected  CreditScore  OfferedAmount           OfferID\n",
      "0            Created       User_1    A_Create Application  Application  Application_652823628             complete 2016-01-01 09:51:15.304000+00:00  Existing loan takeover           New credit   Application_652823628               20000.0                    NaN            NaN      NaN          NaN      NaN          NaN            NaN               NaN\n",
      "1        statechange       User_1             A_Submitted  Application   ApplState_1582051990             complete 2016-01-01 09:51:15.352000+00:00  Existing loan takeover           New credit   Application_652823628               20000.0                    NaN            NaN      NaN          NaN      NaN          NaN            NaN               NaN\n",
      "2            Created       User_1          W_Handle leads     Workflow    Workitem_1298499574             schedule 2016-01-01 09:51:15.774000+00:00  Existing loan takeover           New credit   Application_652823628               20000.0                    NaN            NaN      NaN          NaN      NaN          NaN            NaN               NaN\n",
      "3            Deleted       User_1          W_Handle leads     Workflow    Workitem_1673366067             withdraw 2016-01-01 09:52:36.392000+00:00  Existing loan takeover           New credit   Application_652823628               20000.0                    NaN            NaN      NaN          NaN      NaN          NaN            NaN               NaN\n",
      "4            Created       User_1  W_Complete application     Workflow    Workitem_1493664571             schedule 2016-01-01 09:52:36.403000+00:00  Existing loan takeover           New credit   Application_652823628               20000.0                    NaN            NaN      NaN          NaN      NaN          NaN            NaN               NaN\n",
      "...              ...          ...                     ...          ...                    ...                  ...                              ...                     ...                  ...                     ...                   ...                    ...            ...      ...          ...      ...          ...            ...               ...\n",
      "1202262      Deleted       User_1     W_Call after offers     Workflow    Workitem_1817549786            ate_abort 2017-01-06 06:33:02.212000+00:00        Home improvement           New credit  Application_1350494635               20000.0                    NaN            NaN      NaN          NaN      NaN          NaN            NaN               NaN\n",
      "1202263      Created       User_1     W_Call after offers     Workflow     Workitem_363876066             schedule 2017-01-06 06:33:02.221000+00:00        Home improvement           New credit  Application_1350494635               20000.0                    NaN            NaN      NaN          NaN      NaN          NaN            NaN               NaN\n",
      "1202264  statechange      User_28             A_Cancelled  Application   ApplState_1869071797             complete 2017-01-16 09:51:21.114000+00:00        Home improvement           New credit  Application_1350494635               20000.0                    NaN            NaN      NaN          NaN      NaN          NaN            NaN               NaN\n",
      "1202265  statechange      User_28             O_Cancelled        Offer   OfferState_420066181             complete 2017-01-16 09:51:21.139000+00:00        Home improvement           New credit  Application_1350494635               20000.0                    NaN            NaN      NaN          NaN      NaN          NaN            NaN  Offer_1580299144\n",
      "1202266      Deleted      User_28     W_Call after offers     Workflow    Workitem_1934044935             withdraw 2017-01-16 09:51:21.146000+00:00        Home improvement           New credit  Application_1350494635               20000.0                    NaN            NaN      NaN          NaN      NaN          NaN            NaN               NaN\n",
      "\n",
      "[1202267 rows x 19 columns]\n"
     ]
    }
   ],
   "metadata": {}
  },
  {
   "cell_type": "markdown",
   "source": [
    "To get a better understanding of this processes it will be helpful to display the activities. According to pm4py the activities are marked as `'concept:name'` and the cases are marked as `'case:concept:name'`"
   ],
   "metadata": {}
  },
  {
   "cell_type": "code",
   "execution_count": 3,
   "source": [
    "\r\n",
    "case_id = 'case:concept:name'\r\n",
    "activity_id = 'concept:name'\r\n",
    "\r\n",
    "print('bpi2012: num of cases:',len(bpi2012[case_id].unique()))\r\n",
    "print('bpi2017: num of cases:',len(bpi2017[case_id].unique()))\r\n",
    "bpi2012_activities = bpi2012[activity_id].unique()\r\n",
    "bpi2017_activities = bpi2017[activity_id].unique()\r\n",
    "print('bpi2012: num of possible activities:',len(bpi2012_activities))\r\n",
    "print('bpi2017: num of possible activities:',len(bpi2017_activities))\r\n",
    "print(sorted(bpi2012_activities))\r\n",
    "print(sorted(bpi2017_activities))"
   ],
   "outputs": [
    {
     "output_type": "stream",
     "name": "stdout",
     "text": [
      "bpi2012: num of cases: 13087\n",
      "bpi2017: num of cases: 31509\n",
      "bpi2012: num of possible activities: 24\n",
      "bpi2017: num of possible activities: 26\n",
      "['A_ACCEPTED', 'A_ACTIVATED', 'A_APPROVED', 'A_CANCELLED', 'A_DECLINED', 'A_FINALIZED', 'A_PARTLYSUBMITTED', 'A_PREACCEPTED', 'A_REGISTERED', 'A_SUBMITTED', 'O_ACCEPTED', 'O_CANCELLED', 'O_CREATED', 'O_DECLINED', 'O_SELECTED', 'O_SENT', 'O_SENT_BACK', 'W_Afhandelen leads', 'W_Beoordelen fraude', 'W_Completeren aanvraag', 'W_Nabellen incomplete dossiers', 'W_Nabellen offertes', 'W_Valideren aanvraag', 'W_Wijzigen contractgegevens']\n",
      "['A_Accepted', 'A_Cancelled', 'A_Complete', 'A_Concept', 'A_Create Application', 'A_Denied', 'A_Incomplete', 'A_Pending', 'A_Submitted', 'A_Validating', 'O_Accepted', 'O_Cancelled', 'O_Create Offer', 'O_Created', 'O_Refused', 'O_Returned', 'O_Sent (mail and online)', 'O_Sent (online only)', 'W_Assess potential fraud', 'W_Call after offers', 'W_Call incomplete files', 'W_Complete application', 'W_Handle leads', 'W_Personal Loan collection', 'W_Shortened completion ', 'W_Validate application']\n"
     ]
    }
   ],
   "metadata": {}
  },
  {
   "cell_type": "markdown",
   "source": [
    "With so much possible activities and diffrences in language between the two processes it is really hard to understand the changes in the process. For this project it may take too lang to fully understand this processes. So we decided to use an other approach.\n",
    "\n",
    "## Simulation\n",
    "To get two versions of a process we decided to create our own processes. Therefor we builded two bpmn models representing a basic version of an order to cash process and a changed version. For better understanding of the process we provide a so called ruleset representing the activities."
   ],
   "metadata": {}
  },
  {
   "cell_type": "code",
   "execution_count": 4,
   "source": [
    "unchanged_basic_ruleset = [\r\n",
    "    \"Check stock availability\",\r\n",
    "    \"Check raw materials availabilty\",\r\n",
    "    (\r\n",
    "        [\r\n",
    "            \"Request raw materials from Supplier 1\",\r\n",
    "            \"Obtain raw materials from Supplier 1\"\r\n",
    "        ],\r\n",
    "        [\r\n",
    "            \"Request raw materials from Supplier 2\",\r\n",
    "            \"Obtain raw materials from Supplier 2\"\r\n",
    "        ]\r\n",
    "    ),\r\n",
    "    \"Manufacture product\",\r\n",
    "    \"Retrieve product from warehouse\",\r\n",
    "    \"Confirm order\",\r\n",
    "    (\r\n",
    "        [\r\n",
    "            \"Get shipping address\",\r\n",
    "            \"Ship product\"\r\n",
    "        ],\r\n",
    "        [\r\n",
    "            \"Emit invoice\",\r\n",
    "            \"Receive Payment\"\r\n",
    "        ]\r\n",
    "    ),\r\n",
    "    \"Archieve order\"\r\n",
    "]\r\n",
    "changed_basic_ruleset = [\r\n",
    "    \"Check stock availability\",\r\n",
    "    \"Check raw materials availabilty\",\r\n",
    "    \"Notify unavailability to customer\",\r\n",
    "    (\r\n",
    "        \"Start request raw materials from Supplier 1\",\r\n",
    "        \"Start request raw materials from Supplier 2\"\r\n",
    "    ),\r\n",
    "    (\r\n",
    "        \"Obtain raw materials from Supplier 1\",\r\n",
    "        \"Obtain raw materials from Supplier 2\"\r\n",
    "    ),\r\n",
    "    \"Manufacture product\",\r\n",
    "    \"Retrieve product from warehouse\",\r\n",
    "    \"Confirm order\",\r\n",
    "    \"Get shipping address\",\r\n",
    "    (\r\n",
    "        \"Ship product\",\r\n",
    "        [\r\n",
    "            \"Emit invoice\",\r\n",
    "            \"Receive Payment\"\r\n",
    "        ]\r\n",
    "    ),\r\n",
    "    \"Archieve order\"\r\n",
    "]\r\n",
    "print(unchanged_basic_ruleset)\r\n",
    "print(changed_basic_ruleset)"
   ],
   "outputs": [
    {
     "output_type": "stream",
     "name": "stdout",
     "text": [
      "['Check stock availability', 'Check raw materials availabilty', (['Request raw materials from Supplier 1', 'Obtain raw materials from Supplier 1'], ['Request raw materials from Supplier 2', 'Obtain raw materials from Supplier 2']), 'Manufacture product', 'Retrieve product from warehouse', 'Confirm order', (['Get shipping address', 'Ship product'], ['Emit invoice', 'Receive Payment']), 'Archieve order']\n",
      "['Check stock availability', 'Check raw materials availabilty', 'Notify unavailability to customer', ('Start request raw materials from Supplier 1', 'Start request raw materials from Supplier 2'), ('Obtain raw materials from Supplier 1', 'Obtain raw materials from Supplier 2'), 'Manufacture product', 'Retrieve product from warehouse', 'Confirm order', 'Get shipping address', ('Ship product', ['Emit invoice', 'Receive Payment']), 'Archieve order']\n"
     ]
    }
   ],
   "metadata": {}
  },
  {
   "cell_type": "markdown",
   "source": [
    "These activities define two simple, but diffrent processes. For experimentation we can now load the bpmn's and simulate some event logs."
   ],
   "metadata": {}
  },
  {
   "cell_type": "code",
   "execution_count": 5,
   "source": [
    "from source.misc import read_bpmn\r\n",
    "from source.simulation import basic_bpmn_petri_net\r\n",
    "\r\n",
    "unchanged_bpmn = read_bpmn(BPMN_DIR_PATH,'Order-to-Cash-Model-1.bpmn')\r\n",
    "changed_bpmn = read_bpmn(BPMN_DIR_PATH,'Order-to-Cash-Model-2.bpmn')\r\n",
    "\r\n",
    "unchanged_eventlog = basic_bpmn_petri_net(unchanged_bpmn)\r\n",
    "changed_eventlog = basic_bpmn_petri_net(changed_bpmn)\r\n",
    "\r\n",
    "print(unchanged_eventlog)\r\n",
    "print(changed_eventlog)"
   ],
   "outputs": [
    {
     "output_type": "stream",
     "name": "stdout",
     "text": [
      "                                concept:name      time:timestamp case:concept:name\n",
      "0                   Check stock availability 1970-04-26 19:46:40             C0000\n",
      "1            Check raw materials availabilty 1970-04-26 19:46:41             C0000\n",
      "2      Request raw materials from Supplier 2 1970-04-26 19:46:42             C0000\n",
      "3       Obtain raw materials from Supplier 2 1970-04-26 19:46:43             C0000\n",
      "4      Request raw materials from Supplier 1 1970-04-26 19:46:44             C0000\n",
      "...                                      ...                 ...               ...\n",
      "10535                           Emit invoice 1970-04-26 22:42:15             C0999\n",
      "10536                   Get shipping address 1970-04-26 22:42:16             C0999\n",
      "10537                           Ship product 1970-04-26 22:42:17             C0999\n",
      "10538                        Receive Payment 1970-04-26 22:42:18             C0999\n",
      "10539                         Archieve order 1970-04-26 22:42:19             C0999\n",
      "\n",
      "[10540 rows x 3 columns]\n",
      "                                     concept:name      time:timestamp case:concept:name\n",
      "0                        Check stock availability 1970-04-26 19:46:40             C0000\n",
      "1                 Check raw materials availabilty 1970-04-26 19:46:41             C0000\n",
      "2     Start request raw materials from Supplier 2 1970-04-26 19:46:42             C0000\n",
      "3     Start request raw materials from Supplier 1 1970-04-26 19:46:43             C0000\n",
      "4            Obtain raw materials from Supplier 1 1970-04-26 19:46:44             C0000\n",
      "...                                           ...                 ...               ...\n",
      "5675              Check raw materials availabilty 1970-04-26 21:21:15             C0998\n",
      "5676            Notify unavailability to customer 1970-04-26 21:21:16             C0998\n",
      "5677                     Check stock availability 1970-04-26 21:21:17             C0999\n",
      "5678              Retrieve product from warehouse 1970-04-26 21:21:18             C0999\n",
      "5679                                Confirm order 1970-04-26 21:21:19             C0999\n",
      "\n",
      "[5680 rows x 3 columns]\n"
     ]
    }
   ],
   "metadata": {}
  },
  {
   "cell_type": "markdown",
   "source": [
    "Despite having courios timestamps, both processes are simulated according to the bpmn. If we now apply some scenario data for the processes, we can get a more realistic version. But fist of all, let us have a look at the scenarios."
   ],
   "metadata": {}
  },
  {
   "cell_type": "code",
   "execution_count": 6,
   "source": [
    "from source.misc import get_scenario\r\n",
    "\r\n",
    "unchanged_scenario = get_scenario(SIMULATION_DATA_DIR_PATH, 'Order-to-Cash_unchanged.csv')\r\n",
    "changed_scenario = get_scenario(SIMULATION_DATA_DIR_PATH, 'Order-to-Cash_changed.csv')\r\n",
    "\r\n",
    "print(unchanged_scenario)\r\n",
    "print(changed_scenario)"
   ],
   "outputs": [
    {
     "output_type": "stream",
     "name": "stdout",
     "text": [
      "{'time': {'apply_to': None, 'functions': {'Check stock availability': <function get_scenario.<locals>.<lambda> at 0x000002060D0F6160>, 'Check raw materials availabilty': <function get_scenario.<locals>.<lambda> at 0x00000207341019D0>, 'Request raw materials from Supplier 1': <function get_scenario.<locals>.<lambda> at 0x0000020734101D30>, 'Request raw materials from Supplier 2': <function get_scenario.<locals>.<lambda> at 0x0000020734101E50>, 'Obtain raw materials from Supplier 1': <function get_scenario.<locals>.<lambda> at 0x0000020734101F70>, 'Obtain raw materials from Supplier 2': <function get_scenario.<locals>.<lambda> at 0x000002072E0680D0>, 'Manufacture product': <function get_scenario.<locals>.<lambda> at 0x000002072E0681F0>, 'Retrieve product from warehouse': <function get_scenario.<locals>.<lambda> at 0x000002072E068310>, 'Confirm order': <function get_scenario.<locals>.<lambda> at 0x000002072E068430>, 'Get shipping address': <function get_scenario.<locals>.<lambda> at 0x000002072E068550>, 'Ship product': <function get_scenario.<locals>.<lambda> at 0x000002072E068670>, 'Emit invoice': <function get_scenario.<locals>.<lambda> at 0x000002072E068790>, 'Receive Payment': <function get_scenario.<locals>.<lambda> at 0x000002072E0688B0>, 'Archieve order': <function get_scenario.<locals>.<lambda> at 0x000002072E0689D0>}}, 'cost': {'apply_to': 'time', 'functions': {'Check stock availability': <function get_scenario.<locals>.<lambda> at 0x0000020734101B80>, 'Check raw materials availabilty': <function get_scenario.<locals>.<lambda> at 0x0000020734101CA0>, 'Request raw materials from Supplier 1': <function get_scenario.<locals>.<lambda> at 0x0000020734101DC0>, 'Request raw materials from Supplier 2': <function get_scenario.<locals>.<lambda> at 0x0000020734101EE0>, 'Obtain raw materials from Supplier 1': <function get_scenario.<locals>.<lambda> at 0x000002072E068040>, 'Obtain raw materials from Supplier 2': <function get_scenario.<locals>.<lambda> at 0x000002072E068160>, 'Manufacture product': <function get_scenario.<locals>.<lambda> at 0x000002072E068280>, 'Retrieve product from warehouse': <function get_scenario.<locals>.<lambda> at 0x000002072E0683A0>, 'Confirm order': <function get_scenario.<locals>.<lambda> at 0x000002072E0684C0>, 'Get shipping address': <function get_scenario.<locals>.<lambda> at 0x000002072E0685E0>, 'Ship product': <function get_scenario.<locals>.<lambda> at 0x000002072E068700>, 'Emit invoice': <function get_scenario.<locals>.<lambda> at 0x000002072E068820>, 'Receive Payment': <function get_scenario.<locals>.<lambda> at 0x000002072E068940>, 'Archieve order': <function get_scenario.<locals>.<lambda> at 0x000002072E068A60>}}}\n",
      "{'time': {'apply_to': None, 'functions': {'Check stock availability': <function get_scenario.<locals>.<lambda> at 0x000002072E068C10>, 'Check raw materials availabilty': <function get_scenario.<locals>.<lambda> at 0x000002072E068AF0>, 'Notify unavailability to customer': <function get_scenario.<locals>.<lambda> at 0x000002072E068D30>, 'Start request raw materials from Supplier 1': <function get_scenario.<locals>.<lambda> at 0x000002072E068E50>, 'Start request raw materials from Supplier 2': <function get_scenario.<locals>.<lambda> at 0x000002072E068F70>, 'Obtain raw materials from Supplier 1': <function get_scenario.<locals>.<lambda> at 0x0000020734A7A0D0>, 'Obtain raw materials from Supplier 2': <function get_scenario.<locals>.<lambda> at 0x0000020734A7A1F0>, 'Manufacture product': <function get_scenario.<locals>.<lambda> at 0x0000020734A7A310>, 'Retrieve product from warehouse': <function get_scenario.<locals>.<lambda> at 0x0000020734A7A430>, 'Confirm order': <function get_scenario.<locals>.<lambda> at 0x0000020734A7A550>, 'Get shipping address': <function get_scenario.<locals>.<lambda> at 0x0000020734A7A670>, 'Ship product': <function get_scenario.<locals>.<lambda> at 0x0000020734A7A790>, 'Emit invoice': <function get_scenario.<locals>.<lambda> at 0x0000020734A7A8B0>, 'Receive Payment': <function get_scenario.<locals>.<lambda> at 0x0000020734A7A9D0>, 'Archieve order': <function get_scenario.<locals>.<lambda> at 0x0000020734A7AAF0>}}, 'cost': {'apply_to': 'time', 'functions': {'Check stock availability': <function get_scenario.<locals>.<lambda> at 0x000002072E068B80>, 'Check raw materials availabilty': <function get_scenario.<locals>.<lambda> at 0x000002072E068CA0>, 'Notify unavailability to customer': <function get_scenario.<locals>.<lambda> at 0x000002072E068DC0>, 'Start request raw materials from Supplier 1': <function get_scenario.<locals>.<lambda> at 0x000002072E068EE0>, 'Start request raw materials from Supplier 2': <function get_scenario.<locals>.<lambda> at 0x0000020734A7A040>, 'Obtain raw materials from Supplier 1': <function get_scenario.<locals>.<lambda> at 0x0000020734A7A160>, 'Obtain raw materials from Supplier 2': <function get_scenario.<locals>.<lambda> at 0x0000020734A7A280>, 'Manufacture product': <function get_scenario.<locals>.<lambda> at 0x0000020734A7A3A0>, 'Retrieve product from warehouse': <function get_scenario.<locals>.<lambda> at 0x0000020734A7A4C0>, 'Confirm order': <function get_scenario.<locals>.<lambda> at 0x0000020734A7A5E0>, 'Get shipping address': <function get_scenario.<locals>.<lambda> at 0x0000020734A7A700>, 'Ship product': <function get_scenario.<locals>.<lambda> at 0x0000020734A7A820>, 'Emit invoice': <function get_scenario.<locals>.<lambda> at 0x0000020734A7A940>, 'Receive Payment': <function get_scenario.<locals>.<lambda> at 0x0000020734A7AA60>, 'Archieve order': <function get_scenario.<locals>.<lambda> at 0x0000020734A7AB80>}}}\n"
     ]
    }
   ],
   "metadata": {}
  },
  {
   "cell_type": "markdown",
   "source": [
    "It is hard to see, but all activities have been assigned functions to simulate the behavior in a process run. If we now applying these methods we obtaining a more realistic eventlog."
   ],
   "metadata": {}
  },
  {
   "cell_type": "code",
   "execution_count": 7,
   "source": [
    "from source.operation import apply_scenario\r\n",
    "\r\n",
    "unchanged_eventlog = apply_scenario(unchanged_eventlog, unchanged_scenario, activity_id)\r\n",
    "changed_eventlog = apply_scenario(changed_eventlog, changed_scenario, activity_id)\r\n",
    "print(unchanged_eventlog)\r\n",
    "print(changed_eventlog)"
   ],
   "outputs": [
    {
     "output_type": "stream",
     "name": "stdout",
     "text": [
      "                                concept:name      time:timestamp case:concept:name      time      cost\n",
      "0                   Check stock availability 1970-04-26 19:46:40             C0000  0.016667  1.833333\n",
      "1            Check raw materials availabilty 1970-04-26 19:46:41             C0000  0.016667  1.833333\n",
      "2      Request raw materials from Supplier 2 1970-04-26 19:46:42             C0000  0.015661  1.783049\n",
      "3       Obtain raw materials from Supplier 2 1970-04-26 19:46:43             C0000  0.014359  1.717951\n",
      "4      Request raw materials from Supplier 1 1970-04-26 19:46:44             C0000  0.014720  1.736022\n",
      "...                                      ...                 ...               ...       ...       ...\n",
      "10535                           Emit invoice 1970-04-26 22:42:15             C0999  0.016667  1.833333\n",
      "10536                   Get shipping address 1970-04-26 22:42:16             C0999  0.016667  1.833333\n",
      "10537                           Ship product 1970-04-26 22:42:17             C0999  0.016532  1.826604\n",
      "10538                        Receive Payment 1970-04-26 22:42:18             C0999  0.016667  1.833333\n",
      "10539                         Archieve order 1970-04-26 22:42:19             C0999  0.016667  1.833333\n",
      "\n",
      "[10540 rows x 5 columns]\n",
      "                                     concept:name      time:timestamp case:concept:name      time      cost\n",
      "0                        Check stock availability 1970-04-26 19:46:40             C0000  0.016667  1.833333\n",
      "1                 Check raw materials availabilty 1970-04-26 19:46:41             C0000  0.016667  1.833333\n",
      "2     Start request raw materials from Supplier 2 1970-04-26 19:46:42             C0000  0.016667  1.833333\n",
      "3     Start request raw materials from Supplier 1 1970-04-26 19:46:43             C0000  0.016667  1.833333\n",
      "4            Obtain raw materials from Supplier 1 1970-04-26 19:46:44             C0000  0.017379  1.868953\n",
      "...                                           ...                 ...               ...       ...       ...\n",
      "5675              Check raw materials availabilty 1970-04-26 21:21:15             C0998  0.016667  1.833333\n",
      "5676            Notify unavailability to customer 1970-04-26 21:21:16             C0998  0.016667  1.833333\n",
      "5677                     Check stock availability 1970-04-26 21:21:17             C0999  0.016667  1.833333\n",
      "5678              Retrieve product from warehouse 1970-04-26 21:21:18             C0999  0.015311  1.765552\n",
      "5679                                Confirm order 1970-04-26 21:21:19             C0999  0.016667  1.833333\n",
      "\n",
      "[5680 rows x 5 columns]\n"
     ]
    }
   ],
   "metadata": {}
  },
  {
   "cell_type": "markdown",
   "source": [
    "To get now a more machine learning convenient view, we can now change the eventlogs into case tables."
   ],
   "metadata": {}
  },
  {
   "cell_type": "code",
   "execution_count": 8,
   "source": [
    "from source.operation import to_case_table\r\n",
    "\r\n",
    "unchanged_case_table = to_case_table(unchanged_eventlog, case_id, activity_id, fillna=0, aggregate={'cost':'sum','time':'sum'})\r\n",
    "changed_case_table = to_case_table(changed_eventlog, case_id, activity_id, fillna=0, aggregate={'cost':'sum','time':'sum'})\r\n",
    "\r\n",
    "print(unchanged_case_table)\r\n",
    "print(changed_case_table)"
   ],
   "outputs": [
    {
     "output_type": "stream",
     "name": "stdout",
     "text": [
      "                   cost Archieve order  cost Check raw materials availabilty  cost Check stock availability  cost Confirm order  cost Emit invoice  cost Get shipping address  cost Manufacture product  cost Obtain raw materials from Supplier 1  cost Obtain raw materials from Supplier 2  cost Receive Payment  ...  Num of Emit invoice  Num of Get shipping address  Num of Manufacture product  Num of Obtain raw materials from Supplier 1  Num of Obtain raw materials from Supplier 2  Num of Receive Payment  Num of Request raw materials from Supplier 1  Num of Request raw materials from Supplier 2  Num of Retrieve product from warehouse  Num of Ship product\n",
      "case:concept:name                                                                                                                                                                                                                                                                                                    ...                                                                                                                                                                                                                                                                                                                                                         \n",
      "C0000                         1.833333                              1.833333                       1.833333            1.833333           1.833333                   1.833333                  1.945955                                   1.827614                                   1.717951              1.833333  ...                  1.0                          1.0                         1.0                                          1.0                                          1.0                     1.0                                           1.0                                           1.0                                     0.0                  1.0\n",
      "C0001                         1.833333                              0.000000                       1.833333            1.833333           1.833333                   1.833333                  0.000000                                   0.000000                                   0.000000              1.833333  ...                  1.0                          1.0                         0.0                                          0.0                                          0.0                     1.0                                           0.0                                           0.0                                     1.0                  1.0\n",
      "C0002                         1.833333                              0.000000                       1.833333            1.833333           1.833333                   1.833333                  0.000000                                   0.000000                                   0.000000              1.833333  ...                  1.0                          1.0                         0.0                                          0.0                                          0.0                     1.0                                           0.0                                           0.0                                     1.0                  1.0\n",
      "C0003                         1.833333                              1.833333                       1.833333            1.833333           1.833333                   1.833333                  1.912604                                   2.024025                                   1.701747              1.833333  ...                  1.0                          1.0                         1.0                                          1.0                                          1.0                     1.0                                           1.0                                           1.0                                     0.0                  1.0\n",
      "C0004                         1.833333                              0.000000                       1.833333            1.833333           1.833333                   1.833333                  0.000000                                   0.000000                                   0.000000              1.833333  ...                  1.0                          1.0                         0.0                                          0.0                                          0.0                     1.0                                           0.0                                           0.0                                     1.0                  1.0\n",
      "...                                ...                                   ...                            ...                 ...                ...                        ...                       ...                                        ...                                        ...                   ...  ...                  ...                          ...                         ...                                          ...                                          ...                     ...                                           ...                                           ...                                     ...                  ...\n",
      "C0995                         1.833333                              1.833333                       1.833333            1.833333           1.833333                   1.833333                  1.863377                                   1.819418                                   1.784932              1.833333  ...                  1.0                          1.0                         1.0                                          1.0                                          1.0                     1.0                                           1.0                                           1.0                                     0.0                  1.0\n",
      "C0996                         1.833333                              0.000000                       1.833333            1.833333           1.833333                   1.833333                  0.000000                                   0.000000                                   0.000000              1.833333  ...                  1.0                          1.0                         0.0                                          0.0                                          0.0                     1.0                                           0.0                                           0.0                                     1.0                  1.0\n",
      "C0997                         1.833333                              1.833333                       1.833333            1.833333           1.833333                   1.833333                  1.957849                                   1.767467                                   1.916852              1.833333  ...                  1.0                          1.0                         1.0                                          1.0                                          1.0                     1.0                                           1.0                                           1.0                                     0.0                  1.0\n",
      "C0998                         1.833333                              0.000000                       1.833333            1.833333           1.833333                   1.833333                  0.000000                                   0.000000                                   0.000000              1.833333  ...                  1.0                          1.0                         0.0                                          0.0                                          0.0                     1.0                                           0.0                                           0.0                                     1.0                  1.0\n",
      "C0999                         1.833333                              1.833333                       1.833333            1.833333           1.833333                   1.833333                  1.808459                                   1.759001                                   1.859860              1.833333  ...                  1.0                          1.0                         1.0                                          1.0                                          1.0                     1.0                                           1.0                                           1.0                                     0.0                  1.0\n",
      "\n",
      "[1000 rows x 42 columns]\n",
      "                   cost Archieve order  cost Check raw materials availabilty  cost Check stock availability  cost Confirm order  cost Emit invoice  cost Get shipping address  cost Manufacture product  cost Notify unavailability to customer  cost Obtain raw materials from Supplier 1  cost Obtain raw materials from Supplier 2  ...  Num of Get shipping address  Num of Manufacture product  Num of Notify unavailability to customer  Num of Obtain raw materials from Supplier 1  Num of Obtain raw materials from Supplier 2  Num of Receive Payment  Num of Retrieve product from warehouse  Num of Ship product  Num of Start request raw materials from Supplier 1  Num of Start request raw materials from Supplier 2\n",
      "case:concept:name                                                                                                                                                                                                                                                                                                                      ...                                                                                                                                                                                                                                                                                                                                                                                          \n",
      "C0000                         1.833333                              1.833333                       1.833333            1.833333           1.833333                   1.833333                  1.828055                                0.000000                                   1.868953                                   1.939150  ...                          1.0                         1.0                                       0.0                                          1.0                                          1.0                     1.0                                     0.0                  1.0                                                1.0                                                 1.0 \n",
      "C0001                         0.000000                              1.833333                       1.833333            0.000000           0.000000                   0.000000                  0.000000                                1.833333                                   0.000000                                   0.000000  ...                          0.0                         0.0                                       1.0                                          0.0                                          0.0                     0.0                                     0.0                  0.0                                                0.0                                                 0.0 \n",
      "C0002                         1.833333                              1.833333                       1.833333            1.833333           1.833333                   1.833333                  1.792906                                0.000000                                   1.905922                                   1.685314  ...                          1.0                         1.0                                       0.0                                          1.0                                          1.0                     1.0                                     0.0                  1.0                                                1.0                                                 1.0 \n",
      "C0003                         0.000000                              1.833333                       1.833333            0.000000           0.000000                   0.000000                  0.000000                                1.833333                                   0.000000                                   0.000000  ...                          0.0                         0.0                                       1.0                                          0.0                                          0.0                     0.0                                     0.0                  0.0                                                0.0                                                 0.0 \n",
      "C0004                         0.000000                              1.833333                       1.833333            0.000000           0.000000                   0.000000                  0.000000                                1.833333                                   0.000000                                   0.000000  ...                          0.0                         0.0                                       1.0                                          0.0                                          0.0                     0.0                                     0.0                  0.0                                                0.0                                                 0.0 \n",
      "...                                ...                                   ...                            ...                 ...                ...                        ...                       ...                                     ...                                        ...                                        ...  ...                          ...                         ...                                       ...                                          ...                                          ...                     ...                                     ...                  ...                                                ...                                                 ... \n",
      "C0995                         0.000000                              0.000000                       1.833333            1.833333           0.000000                   0.000000                  0.000000                                0.000000                                   0.000000                                   0.000000  ...                          0.0                         0.0                                       0.0                                          0.0                                          0.0                     0.0                                     1.0                  0.0                                                0.0                                                 0.0 \n",
      "C0996                         0.000000                              1.833333                       1.833333            0.000000           0.000000                   0.000000                  0.000000                                1.833333                                   0.000000                                   0.000000  ...                          0.0                         0.0                                       1.0                                          0.0                                          0.0                     0.0                                     0.0                  0.0                                                0.0                                                 0.0 \n",
      "C0997                         0.000000                              0.000000                       1.833333            1.833333           0.000000                   0.000000                  0.000000                                0.000000                                   0.000000                                   0.000000  ...                          0.0                         0.0                                       0.0                                          0.0                                          0.0                     0.0                                     1.0                  0.0                                                0.0                                                 0.0 \n",
      "C0998                         0.000000                              1.833333                       1.833333            0.000000           0.000000                   0.000000                  0.000000                                1.833333                                   0.000000                                   0.000000  ...                          0.0                         0.0                                       1.0                                          0.0                                          0.0                     0.0                                     0.0                  0.0                                                0.0                                                 0.0 \n",
      "C0999                         0.000000                              0.000000                       1.833333            1.833333           0.000000                   0.000000                  0.000000                                0.000000                                   0.000000                                   0.000000  ...                          0.0                         0.0                                       0.0                                          0.0                                          0.0                     0.0                                     1.0                  0.0                                                0.0                                                 0.0 \n",
      "\n",
      "[1000 rows x 45 columns]\n"
     ]
    }
   ],
   "metadata": {}
  },
  {
   "cell_type": "markdown",
   "source": [
    "Finally, we can apply the defined rules and calculate the result."
   ],
   "metadata": {}
  },
  {
   "cell_type": "code",
   "execution_count": 9,
   "source": [
    "from source.operation import calculate_outcome\r\n",
    "\r\n",
    "unchanged_ruleset = {'time':unchanged_basic_ruleset,'cost':None}\r\n",
    "changed_ruleset = {'time':changed_basic_ruleset,'cost':None}\r\n",
    "\r\n",
    "unchanged_case_table = calculate_outcome(unchanged_case_table, unchanged_ruleset)\r\n",
    "changed_case_table = calculate_outcome(changed_case_table, changed_ruleset)\r\n",
    "\r\n",
    "print(unchanged_case_table)\r\n",
    "print(changed_case_table)\r\n",
    "\r\n",
    "unchanged_case_table.to_csv(CASE_TABLE_DIR_PATH/'unchanged.csv', index=False)\r\n",
    "changed_case_table.to_csv(CASE_TABLE_DIR_PATH/'changed.csv', index=False)"
   ],
   "outputs": [
    {
     "output_type": "stream",
     "name": "stdout",
     "text": [
      "    case:concept:name  cost Archieve order  cost Check raw materials availabilty  cost Check stock availability  cost Confirm order  cost Emit invoice  cost Get shipping address  cost Manufacture product  cost Obtain raw materials from Supplier 1  cost Obtain raw materials from Supplier 2  ...  Num of Manufacture product  Num of Obtain raw materials from Supplier 1  Num of Obtain raw materials from Supplier 2  Num of Receive Payment  Num of Request raw materials from Supplier 1  Num of Request raw materials from Supplier 2  Num of Retrieve product from warehouse  Num of Ship product      time       cost\n",
      "0               C0000             1.833333                              1.833333                       1.833333            1.833333           1.833333                   1.833333                  1.945955                                   1.827614                                   1.717951  ...                         1.0                                          1.0                                          1.0                     1.0                                           1.0                                           1.0                                     0.0                  1.0  0.150551  23.695218\n",
      "1               C0001             1.833333                              0.000000                       1.833333            1.833333           1.833333                   1.833333                  0.000000                                   0.000000                                   0.000000  ...                         0.0                                          0.0                                          0.0                     1.0                                           0.0                                           0.0                                     1.0                  1.0  0.101889  14.761126\n",
      "2               C0002             1.833333                              0.000000                       1.833333            1.833333           1.833333                   1.833333                  0.000000                                   0.000000                                   0.000000  ...                         0.0                                          0.0                                          0.0                     1.0                                           0.0                                           0.0                                     1.0                  1.0  0.105436  14.938456\n",
      "3               C0003             1.833333                              1.833333                       1.833333            1.833333           1.833333                   1.833333                  1.912604                                   2.024025                                   1.701747  ...                         1.0                                          1.0                                          1.0                     1.0                                           1.0                                           1.0                                     0.0                  1.0  0.158613  24.239584\n",
      "4               C0004             1.833333                              0.000000                       1.833333            1.833333           1.833333                   1.833333                  0.000000                                   0.000000                                   0.000000  ...                         0.0                                          0.0                                          0.0                     1.0                                           0.0                                           0.0                                     1.0                  1.0  0.101743  14.717511\n",
      "..                ...                  ...                                   ...                            ...                 ...                ...                        ...                       ...                                        ...                                        ...  ...                         ...                                          ...                                          ...                     ...                                           ...                                           ...                                     ...                  ...       ...        ...\n",
      "995             C0995             1.833333                              1.833333                       1.833333            1.833333           1.833333                   1.833333                  1.863377                                   1.819418                                   1.784932  ...                         1.0                                          1.0                                          1.0                     1.0                                           1.0                                           1.0                                     0.0                  1.0  0.154256  23.920655\n",
      "996             C0996             1.833333                              0.000000                       1.833333            1.833333           1.833333                   1.833333                  0.000000                                   0.000000                                   0.000000  ...                         0.0                                          0.0                                          0.0                     1.0                                           0.0                                           0.0                                     1.0                  1.0  0.101684  14.750867\n",
      "997             C0997             1.833333                              1.833333                       1.833333            1.833333           1.833333                   1.833333                  1.957849                                   1.767467                                   1.916852  ...                         1.0                                          1.0                                          1.0                     1.0                                           1.0                                           1.0                                     0.0                  1.0  0.154560  24.029084\n",
      "998             C0998             1.833333                              0.000000                       1.833333            1.833333           1.833333                   1.833333                  0.000000                                   0.000000                                   0.000000  ...                         0.0                                          0.0                                          0.0                     1.0                                           0.0                                           0.0                                     1.0                  1.0  0.100985  14.596450\n",
      "999             C0999             1.833333                              1.833333                       1.833333            1.833333           1.833333                   1.833333                  1.808459                                   1.759001                                   1.859860  ...                         1.0                                          1.0                                          1.0                     1.0                                           1.0                                           1.0                                     0.0                  1.0  0.149230  23.667496\n",
      "\n",
      "[1000 rows x 45 columns]\n",
      "    case:concept:name  cost Archieve order  cost Check raw materials availabilty  cost Check stock availability  cost Confirm order  cost Emit invoice  cost Get shipping address  cost Manufacture product  cost Notify unavailability to customer  cost Obtain raw materials from Supplier 1  ...  Num of Notify unavailability to customer  Num of Obtain raw materials from Supplier 1  Num of Obtain raw materials from Supplier 2  Num of Receive Payment  Num of Retrieve product from warehouse  Num of Ship product  Num of Start request raw materials from Supplier 1  Num of Start request raw materials from Supplier 2      time       cost\n",
      "0               C0000             1.833333                              1.833333                       1.833333            1.833333           1.833333                   1.833333                  1.828055                                0.000000                                   1.868953  ...                                       0.0                                          1.0                                          1.0                     1.0                                     0.0                  1.0                                                1.0                                                 1.0   0.168677  23.875255\n",
      "1               C0001             0.000000                              1.833333                       1.833333            0.000000           0.000000                   0.000000                  0.000000                                1.833333                                   0.000000  ...                                       1.0                                          0.0                                          0.0                     0.0                                     0.0                  0.0                                                0.0                                                 0.0   0.050000   5.500000\n",
      "2               C0002             1.833333                              1.833333                       1.833333            1.833333           1.833333                   1.833333                  1.792906                                0.000000                                   1.905922  ...                                       0.0                                          1.0                                          1.0                     1.0                                     0.0                  1.0                                                1.0                                                 1.0   0.167310  23.686396\n",
      "3               C0003             0.000000                              1.833333                       1.833333            0.000000           0.000000                   0.000000                  0.000000                                1.833333                                   0.000000  ...                                       1.0                                          0.0                                          0.0                     0.0                                     0.0                  0.0                                                0.0                                                 0.0   0.050000   5.500000\n",
      "4               C0004             0.000000                              1.833333                       1.833333            0.000000           0.000000                   0.000000                  0.000000                                1.833333                                   0.000000  ...                                       1.0                                          0.0                                          0.0                     0.0                                     0.0                  0.0                                                0.0                                                 0.0   0.050000   5.500000\n",
      "..                ...                  ...                                   ...                            ...                 ...                ...                        ...                       ...                                     ...                                        ...  ...                                       ...                                          ...                                          ...                     ...                                     ...                  ...                                                ...                                                 ...        ...        ...\n",
      "995             C0995             0.000000                              0.000000                       1.833333            1.833333           0.000000                   0.000000                  0.000000                                0.000000                                   0.000000  ...                                       0.0                                          0.0                                          0.0                     0.0                                     1.0                  0.0                                                0.0                                                 0.0   0.050054   5.502677\n",
      "996             C0996             0.000000                              1.833333                       1.833333            0.000000           0.000000                   0.000000                  0.000000                                1.833333                                   0.000000  ...                                       1.0                                          0.0                                          0.0                     0.0                                     0.0                  0.0                                                0.0                                                 0.0   0.050000   5.500000\n",
      "997             C0997             0.000000                              0.000000                       1.833333            1.833333           0.000000                   0.000000                  0.000000                                0.000000                                   0.000000  ...                                       0.0                                          0.0                                          0.0                     0.0                                     1.0                  0.0                                                0.0                                                 0.0   0.048489   5.424475\n",
      "998             C0998             0.000000                              1.833333                       1.833333            0.000000           0.000000                   0.000000                  0.000000                                1.833333                                   0.000000  ...                                       1.0                                          0.0                                          0.0                     0.0                                     0.0                  0.0                                                0.0                                                 0.0   0.050000   5.500000\n",
      "999             C0999             0.000000                              0.000000                       1.833333            1.833333           0.000000                   0.000000                  0.000000                                0.000000                                   0.000000  ...                                       0.0                                          0.0                                          0.0                     0.0                                     1.0                  0.0                                                0.0                                                 0.0   0.048644   5.432219\n",
      "\n",
      "[1000 rows x 48 columns]\n"
     ]
    }
   ],
   "metadata": {}
  }
 ],
 "metadata": {
  "kernelspec": {
   "name": "python3",
   "display_name": "Python 3.8.7 64-bit"
  },
  "language_info": {
   "codemirror_mode": {
    "name": "ipython",
    "version": 3
   },
   "file_extension": ".py",
   "mimetype": "text/x-python",
   "name": "python",
   "nbconvert_exporter": "python",
   "pygments_lexer": "ipython3",
   "version": "3.8.7"
  },
  "metadata": {
   "interpreter": {
    "hash": "1320575ca659531d6c822f03cc70ca5358e10b1b7df17adef811d6bdce8e5d4c"
   }
  },
  "interpreter": {
   "hash": "1320575ca659531d6c822f03cc70ca5358e10b1b7df17adef811d6bdce8e5d4c"
  }
 },
 "nbformat": 4,
 "nbformat_minor": 5
}