{
 "cells": [
  {
   "cell_type": "code",
   "execution_count": 1,
   "metadata": {},
   "outputs": [],
   "source": [
    "from pandas import set_option\n",
    "set_option('display.expand_frame_repr', False)"
   ]
  },
  {
   "source": [
    "# Prozess Causality Project\n",
    "## First attempts\n",
    "The basic idea is to compare two processes of the same origin. To do this, we first examined the resources publicly available on the Internet. Since this use case is rather uncommon, we found that the possibilities are quickly exhausted. However, the research and feedback revealed that probably the BPI, which organizes an annual challange, used the same data source twice. Under this pretext, we were able to find the following sources:\n",
    "\n",
    "| Challange | Link | File |\n",
    "|:--- |:--- |:--- |\n",
    "| 2012 | https://www.win.tue.nl/bpi/doku.php?id=2012:challenge | financial_log.xes.gz |\n",
    "| 2017 | https://www.win.tue.nl/bpi/doku.php?id=2017:challenge | BPI Challenge 2017.xes.gz |\n"
   ],
   "cell_type": "markdown",
   "metadata": {}
  },
  {
   "cell_type": "code",
   "execution_count": 2,
   "id": "cde8854b",
   "metadata": {},
   "outputs": [
    {
     "output_type": "stream",
     "name": "stderr",
     "text": [
      "parsing log, completed traces :: 100%|██████████| 13087/13087 [00:05<00:00, 2190.63it/s]\n",
      "parsing log, completed traces :: 100%|██████████| 31509/31509 [00:36<00:00, 865.14it/s] \n",
      "       org:resource lifecycle:transition            concept:name                    time:timestamp                     case:REG_DATE case:concept:name case:AMOUNT_REQ\n",
      "0               112             COMPLETE             A_SUBMITTED  2011-10-01 00:38:44.546000+02:00  2011-10-01 00:38:44.546000+02:00            173688           20000\n",
      "1               112             COMPLETE       A_PARTLYSUBMITTED  2011-10-01 00:38:44.880000+02:00  2011-10-01 00:38:44.546000+02:00            173688           20000\n",
      "2               112             COMPLETE           A_PREACCEPTED  2011-10-01 00:39:37.906000+02:00  2011-10-01 00:38:44.546000+02:00            173688           20000\n",
      "3               112             SCHEDULE  W_Completeren aanvraag  2011-10-01 00:39:38.875000+02:00  2011-10-01 00:38:44.546000+02:00            173688           20000\n",
      "4               NaN                START  W_Completeren aanvraag  2011-10-01 11:36:46.437000+02:00  2011-10-01 00:38:44.546000+02:00            173688           20000\n",
      "...             ...                  ...                     ...                               ...                               ...               ...             ...\n",
      "262195          112             COMPLETE       A_PARTLYSUBMITTED  2012-02-29 23:51:17.423000+01:00  2012-02-29 23:51:16.799000+01:00            214376           15000\n",
      "262196          112             SCHEDULE      W_Afhandelen leads  2012-02-29 23:52:01.287000+01:00  2012-02-29 23:51:16.799000+01:00            214376           15000\n",
      "262197        11169                START      W_Afhandelen leads  2012-03-01 09:26:46.736000+01:00  2012-02-29 23:51:16.799000+01:00            214376           15000\n",
      "262198        11169             COMPLETE              A_DECLINED  2012-03-01 09:27:37.118000+01:00  2012-02-29 23:51:16.799000+01:00            214376           15000\n",
      "262199        11169             COMPLETE      W_Afhandelen leads  2012-03-01 09:27:41.325000+01:00  2012-02-29 23:51:16.799000+01:00            214376           15000\n",
      "\n",
      "[262200 rows x 7 columns]\n",
      "              Action org:resource            concept:name  EventOrigin                EventID lifecycle:transition                   time:timestamp           case:LoanGoal case:ApplicationType       case:concept:name  case:RequestedAmount  FirstWithdrawalAmount  NumberOfTerms Accepted  MonthlyCost Selected  CreditScore  OfferedAmount           OfferID\n",
      "0            Created       User_1    A_Create Application  Application  Application_652823628             complete 2016-01-01 09:51:15.304000+00:00  Existing loan takeover           New credit   Application_652823628               20000.0                    NaN            NaN      NaN          NaN      NaN          NaN            NaN               NaN\n",
      "1        statechange       User_1             A_Submitted  Application   ApplState_1582051990             complete 2016-01-01 09:51:15.352000+00:00  Existing loan takeover           New credit   Application_652823628               20000.0                    NaN            NaN      NaN          NaN      NaN          NaN            NaN               NaN\n",
      "2            Created       User_1          W_Handle leads     Workflow    Workitem_1298499574             schedule 2016-01-01 09:51:15.774000+00:00  Existing loan takeover           New credit   Application_652823628               20000.0                    NaN            NaN      NaN          NaN      NaN          NaN            NaN               NaN\n",
      "3            Deleted       User_1          W_Handle leads     Workflow    Workitem_1673366067             withdraw 2016-01-01 09:52:36.392000+00:00  Existing loan takeover           New credit   Application_652823628               20000.0                    NaN            NaN      NaN          NaN      NaN          NaN            NaN               NaN\n",
      "4            Created       User_1  W_Complete application     Workflow    Workitem_1493664571             schedule 2016-01-01 09:52:36.403000+00:00  Existing loan takeover           New credit   Application_652823628               20000.0                    NaN            NaN      NaN          NaN      NaN          NaN            NaN               NaN\n",
      "...              ...          ...                     ...          ...                    ...                  ...                              ...                     ...                  ...                     ...                   ...                    ...            ...      ...          ...      ...          ...            ...               ...\n",
      "1202262      Deleted       User_1     W_Call after offers     Workflow    Workitem_1817549786            ate_abort 2017-01-06 06:33:02.212000+00:00        Home improvement           New credit  Application_1350494635               20000.0                    NaN            NaN      NaN          NaN      NaN          NaN            NaN               NaN\n",
      "1202263      Created       User_1     W_Call after offers     Workflow     Workitem_363876066             schedule 2017-01-06 06:33:02.221000+00:00        Home improvement           New credit  Application_1350494635               20000.0                    NaN            NaN      NaN          NaN      NaN          NaN            NaN               NaN\n",
      "1202264  statechange      User_28             A_Cancelled  Application   ApplState_1869071797             complete 2017-01-16 09:51:21.114000+00:00        Home improvement           New credit  Application_1350494635               20000.0                    NaN            NaN      NaN          NaN      NaN          NaN            NaN               NaN\n",
      "1202265  statechange      User_28             O_Cancelled        Offer   OfferState_420066181             complete 2017-01-16 09:51:21.139000+00:00        Home improvement           New credit  Application_1350494635               20000.0                    NaN            NaN      NaN          NaN      NaN          NaN            NaN  Offer_1580299144\n",
      "1202266      Deleted      User_28     W_Call after offers     Workflow    Workitem_1934044935             withdraw 2017-01-16 09:51:21.146000+00:00        Home improvement           New credit  Application_1350494635               20000.0                    NaN            NaN      NaN          NaN      NaN          NaN            NaN               NaN\n",
      "\n",
      "[1202267 rows x 19 columns]\n"
     ]
    }
   ],
   "source": [
    "from pm4py import read_xes\n",
    "from pm4py import convert_to_dataframe as as_frame\n",
    "from environment import *\n",
    "bpi2012 = as_frame(read_xes(str(XES_LOGS_DIR_PATH/'financial_log.xes.gz')))\n",
    "bpi2017 = as_frame(read_xes(str(XES_LOGS_DIR_PATH/'BPI Challenge 2017.xes.gz')))\n",
    "print(bpi2012)\n",
    "print(bpi2017)"
   ]
  },
  {
   "source": [
    "To get a better understanding of this processes it will be helpful to display the activities. According to pm4py the activities are marked as `'concept:name'` and the cases are marked as `'case:concept:name'`"
   ],
   "cell_type": "markdown",
   "metadata": {}
  },
  {
   "cell_type": "code",
   "execution_count": 3,
   "metadata": {},
   "outputs": [
    {
     "output_type": "stream",
     "name": "stdout",
     "text": [
      "bpi2012: num of cases: 13087\n",
      "bpi2017: num of cases: 31509\n",
      "bpi2012: num of possible activities: 24\n",
      "bpi2017: num of possible activities: 26\n",
      "['A_ACCEPTED', 'A_ACTIVATED', 'A_APPROVED', 'A_CANCELLED', 'A_DECLINED', 'A_FINALIZED', 'A_PARTLYSUBMITTED', 'A_PREACCEPTED', 'A_REGISTERED', 'A_SUBMITTED', 'O_ACCEPTED', 'O_CANCELLED', 'O_CREATED', 'O_DECLINED', 'O_SELECTED', 'O_SENT', 'O_SENT_BACK', 'W_Afhandelen leads', 'W_Beoordelen fraude', 'W_Completeren aanvraag', 'W_Nabellen incomplete dossiers', 'W_Nabellen offertes', 'W_Valideren aanvraag', 'W_Wijzigen contractgegevens']\n",
      "['A_Accepted', 'A_Cancelled', 'A_Complete', 'A_Concept', 'A_Create Application', 'A_Denied', 'A_Incomplete', 'A_Pending', 'A_Submitted', 'A_Validating', 'O_Accepted', 'O_Cancelled', 'O_Create Offer', 'O_Created', 'O_Refused', 'O_Returned', 'O_Sent (mail and online)', 'O_Sent (online only)', 'W_Assess potential fraud', 'W_Call after offers', 'W_Call incomplete files', 'W_Complete application', 'W_Handle leads', 'W_Personal Loan collection', 'W_Shortened completion ', 'W_Validate application']\n"
     ]
    }
   ],
   "source": [
    "\n",
    "case_id = 'case:concept:name'\n",
    "activity_id = 'concept:name'\n",
    "\n",
    "print('bpi2012: num of cases:',len(bpi2012[case_id].unique()))\n",
    "print('bpi2017: num of cases:',len(bpi2017[case_id].unique()))\n",
    "bpi2012_activities = bpi2012[activity_id].unique()\n",
    "bpi2017_activities = bpi2017[activity_id].unique()\n",
    "print('bpi2012: num of possible activities:',len(bpi2012_activities))\n",
    "print('bpi2017: num of possible activities:',len(bpi2017_activities))\n",
    "print(sorted(bpi2012_activities))\n",
    "print(sorted(bpi2017_activities))"
   ]
  },
  {
   "source": [
    "With so much possible activities and diffrences in language between the two processes it is really hard to understand the changes in the process. For this project it may take too lang to fully understand this processes. So we decided to use an other approach.\n",
    "\n",
    "## Simulation\n",
    "To get two versions of a process we decided to create our own processes. Therefor we builded two bpmn models representing a basic version of an order to cash process and a changed version. For better understanding of the process we provide a so called ruleset representing the activities."
   ],
   "cell_type": "markdown",
   "metadata": {}
  },
  {
   "cell_type": "code",
   "execution_count": 4,
   "metadata": {},
   "outputs": [
    {
     "output_type": "stream",
     "name": "stdout",
     "text": [
      "['Check stock availability', 'Check raw materials availabilty', (['Request raw materials from Supplier 1', 'Obtain raw materials from Supplier 1'], ['Request raw materials from Supplier 2', 'Obtain raw materials from Supplier 2']), 'Manufacture product', 'Retrieve product from warehouse', 'Confirm order', (['Get shipping address', 'Ship product'], ['Emit invoice', 'Receive Payment']), 'Archieve order']\n['Check stock availability', 'Check raw materials availabilty', 'Notify unavailability to customer', ('Start request raw materials from Supplier 1', 'Start request raw materials from Supplier 2'), ('Obtain raw materials from Supplier 1', 'Obtain raw materials from Supplier 2'), 'Manufacture product', 'Retrieve product from warehouse', 'Confirm order', 'Get shipping address', ('Ship product', ['Emit invoice', 'Receive Payment']), 'Archieve order']\n"
     ]
    }
   ],
   "source": [
    "unchanged_basic_ruleset = [\n",
    "    \"Check stock availability\",\n",
    "    \"Check raw materials availabilty\",\n",
    "    (\n",
    "        [\n",
    "            \"Request raw materials from Supplier 1\",\n",
    "            \"Obtain raw materials from Supplier 1\"\n",
    "        ],\n",
    "        [\n",
    "            \"Request raw materials from Supplier 2\",\n",
    "            \"Obtain raw materials from Supplier 2\"\n",
    "        ]\n",
    "    ),\n",
    "    \"Manufacture product\",\n",
    "    \"Retrieve product from warehouse\",\n",
    "    \"Confirm order\",\n",
    "    (\n",
    "        [\n",
    "            \"Get shipping address\",\n",
    "            \"Ship product\"\n",
    "        ],\n",
    "        [\n",
    "            \"Emit invoice\",\n",
    "            \"Receive Payment\"\n",
    "        ]\n",
    "    ),\n",
    "    \"Archieve order\"\n",
    "]\n",
    "changed_basic_ruleset = [\n",
    "    \"Check stock availability\",\n",
    "    \"Check raw materials availabilty\",\n",
    "    \"Notify unavailability to customer\",\n",
    "    (\n",
    "        \"Start request raw materials from Supplier 1\",\n",
    "        \"Start request raw materials from Supplier 2\"\n",
    "    ),\n",
    "    (\n",
    "        \"Obtain raw materials from Supplier 1\",\n",
    "        \"Obtain raw materials from Supplier 2\"\n",
    "    ),\n",
    "    \"Manufacture product\",\n",
    "    \"Retrieve product from warehouse\",\n",
    "    \"Confirm order\",\n",
    "    \"Get shipping address\",\n",
    "    (\n",
    "        \"Ship product\",\n",
    "        [\n",
    "            \"Emit invoice\",\n",
    "            \"Receive Payment\"\n",
    "        ]\n",
    "    ),\n",
    "    \"Archieve order\"\n",
    "]\n",
    "print(unchanged_basic_ruleset)\n",
    "print(changed_basic_ruleset)"
   ]
  },
  {
   "source": [
    "These activities define two simple, but diffrent processes. For experimentation we can now load the bpmn's and simulate some event logs."
   ],
   "cell_type": "markdown",
   "metadata": {}
  },
  {
   "cell_type": "code",
   "execution_count": 5,
   "metadata": {},
   "outputs": [
    {
     "output_type": "stream",
     "name": "stdout",
     "text": [
      "                                concept:name      time:timestamp case:concept:name\n0                   Check stock availability 1970-04-26 19:46:40             C0000\n1            Check raw materials availabilty 1970-04-26 19:46:41             C0000\n2      Request raw materials from Supplier 2 1970-04-26 19:46:42             C0000\n3      Request raw materials from Supplier 1 1970-04-26 19:46:43             C0000\n4       Obtain raw materials from Supplier 2 1970-04-26 19:46:44             C0000\n...                                      ...                 ...               ...\n10555                           Emit invoice 1970-04-26 22:42:35             C0999\n10556                        Receive Payment 1970-04-26 22:42:36             C0999\n10557                   Get shipping address 1970-04-26 22:42:37             C0999\n10558                           Ship product 1970-04-26 22:42:38             C0999\n10559                         Archieve order 1970-04-26 22:42:39             C0999\n\n[10560 rows x 3 columns]\n                           concept:name      time:timestamp case:concept:name\n0              Check stock availability 1970-04-26 19:46:40             C0000\n1       Check raw materials availabilty 1970-04-26 19:46:41             C0000\n2     Notify unavailability to customer 1970-04-26 19:46:42             C0000\n3              Check stock availability 1970-04-26 19:46:43             C0001\n4       Check raw materials availabilty 1970-04-26 19:46:44             C0001\n...                                 ...                 ...               ...\n5595                      Confirm order 1970-04-26 21:19:55             C0999\n5596                       Ship product 1970-04-26 21:19:56             C0999\n5597                       Emit invoice 1970-04-26 21:19:57             C0999\n5598                    Receive Payment 1970-04-26 21:19:58             C0999\n5599                     Archieve order 1970-04-26 21:19:59             C0999\n\n[5600 rows x 3 columns]\n"
     ]
    }
   ],
   "source": [
    "from source.misc import read_bpmn\n",
    "from source.simulation import basic_bpmn_petri_net\n",
    "\n",
    "unchanged_bpmn = read_bpmn(BPMN_DIR_PATH,'Order-to-Cash-Model-1.bpmn')\n",
    "changed_bpmn = read_bpmn(BPMN_DIR_PATH,'Order-to-Cash-Model-2.bpmn')\n",
    "\n",
    "unchanged_eventlog = basic_bpmn_petri_net(unchanged_bpmn)\n",
    "changed_eventlog = basic_bpmn_petri_net(changed_bpmn)\n",
    "\n",
    "print(unchanged_eventlog)\n",
    "print(changed_eventlog)"
   ]
  },
  {
   "source": [
    "Despite having courios timestamps, both processes are simulated according to the bpmn. If we now apply some scenario data for the processes, we can get a more realistic version. But fist of all, let us have a look at the scenarios."
   ],
   "cell_type": "markdown",
   "metadata": {}
  },
  {
   "cell_type": "code",
   "execution_count": 6,
   "metadata": {},
   "outputs": [
    {
     "output_type": "stream",
     "name": "stdout",
     "text": [
      "{'time': {'apply_to': None, 'functions': {'Check stock availability': <function get_scenario.<locals>.<lambda> at 0x000001A8A8D3BF70>, 'Check raw materials availabilty': <function get_scenario.<locals>.<lambda> at 0x000001A8B05C6790>, 'Request raw materials from Supplier 1': <function get_scenario.<locals>.<lambda> at 0x000001A8B05C6A60>, 'Request raw materials from Supplier 2': <function get_scenario.<locals>.<lambda> at 0x000001A8B05C6B80>, 'Obtain raw materials from Supplier 1': <function get_scenario.<locals>.<lambda> at 0x000001A8B05C6CA0>, 'Obtain raw materials from Supplier 2': <function get_scenario.<locals>.<lambda> at 0x000001A8B05C6DC0>, 'Manufacture product': <function get_scenario.<locals>.<lambda> at 0x000001A8B05C6EE0>, 'Retrieve product from warehouse': <function get_scenario.<locals>.<lambda> at 0x000001A8B712E040>, 'Confirm order': <function get_scenario.<locals>.<lambda> at 0x000001A8B712E160>, 'Get shipping address': <function get_scenario.<locals>.<lambda> at 0x000001A8B712E280>, 'Ship product': <function get_scenario.<locals>.<lambda> at 0x000001A8B712E3A0>, 'Emit invoice': <function get_scenario.<locals>.<lambda> at 0x000001A8B712E4C0>, 'Receive Payment': <function get_scenario.<locals>.<lambda> at 0x000001A8B712E5E0>, 'Archieve order': <function get_scenario.<locals>.<lambda> at 0x000001A8B712E700>}}, 'cost': {'apply_to': 'time', 'functions': {'Check stock availability': <function get_scenario.<locals>.<lambda> at 0x000001A7FED32160>, 'Check raw materials availabilty': <function get_scenario.<locals>.<lambda> at 0x000001A8B05C6670>, 'Request raw materials from Supplier 1': <function get_scenario.<locals>.<lambda> at 0x000001A8B05C6AF0>, 'Request raw materials from Supplier 2': <function get_scenario.<locals>.<lambda> at 0x000001A8B05C6C10>, 'Obtain raw materials from Supplier 1': <function get_scenario.<locals>.<lambda> at 0x000001A8B05C6D30>, 'Obtain raw materials from Supplier 2': <function get_scenario.<locals>.<lambda> at 0x000001A8B05C6E50>, 'Manufacture product': <function get_scenario.<locals>.<lambda> at 0x000001A8B05C6F70>, 'Retrieve product from warehouse': <function get_scenario.<locals>.<lambda> at 0x000001A8B712E0D0>, 'Confirm order': <function get_scenario.<locals>.<lambda> at 0x000001A8B712E1F0>, 'Get shipping address': <function get_scenario.<locals>.<lambda> at 0x000001A8B712E310>, 'Ship product': <function get_scenario.<locals>.<lambda> at 0x000001A8B712E430>, 'Emit invoice': <function get_scenario.<locals>.<lambda> at 0x000001A8B712E550>, 'Receive Payment': <function get_scenario.<locals>.<lambda> at 0x000001A8B712E670>, 'Archieve order': <function get_scenario.<locals>.<lambda> at 0x000001A8B712E790>}}}\n{'time': {'apply_to': None, 'functions': {'Check stock availability': <function get_scenario.<locals>.<lambda> at 0x000001A8B712E940>, 'Check raw materials availabilty': <function get_scenario.<locals>.<lambda> at 0x000001A8B712E820>, 'Notify unavailability to customer': <function get_scenario.<locals>.<lambda> at 0x000001A8B712EA60>, 'Start request raw materials from Supplier 1': <function get_scenario.<locals>.<lambda> at 0x000001A8B712EB80>, 'Start request raw materials from Supplier 2': <function get_scenario.<locals>.<lambda> at 0x000001A8B712ECA0>, 'Obtain raw materials from Supplier 1': <function get_scenario.<locals>.<lambda> at 0x000001A8B712EDC0>, 'Obtain raw materials from Supplier 2': <function get_scenario.<locals>.<lambda> at 0x000001A8B712EEE0>, 'Manufacture product': <function get_scenario.<locals>.<lambda> at 0x000001A8A9F81040>, 'Retrieve product from warehouse': <function get_scenario.<locals>.<lambda> at 0x000001A8A9F81160>, 'Confirm order': <function get_scenario.<locals>.<lambda> at 0x000001A8A9F81280>, 'Get shipping address': <function get_scenario.<locals>.<lambda> at 0x000001A8A9F813A0>, 'Ship product': <function get_scenario.<locals>.<lambda> at 0x000001A8A9F814C0>, 'Emit invoice': <function get_scenario.<locals>.<lambda> at 0x000001A8A9F815E0>, 'Receive Payment': <function get_scenario.<locals>.<lambda> at 0x000001A8A9F81700>, 'Archieve order': <function get_scenario.<locals>.<lambda> at 0x000001A8A9F81820>}}, 'cost': {'apply_to': 'time', 'functions': {'Check stock availability': <function get_scenario.<locals>.<lambda> at 0x000001A8B712E8B0>, 'Check raw materials availabilty': <function get_scenario.<locals>.<lambda> at 0x000001A8B712E9D0>, 'Notify unavailability to customer': <function get_scenario.<locals>.<lambda> at 0x000001A8B712EAF0>, 'Start request raw materials from Supplier 1': <function get_scenario.<locals>.<lambda> at 0x000001A8B712EC10>, 'Start request raw materials from Supplier 2': <function get_scenario.<locals>.<lambda> at 0x000001A8B712ED30>, 'Obtain raw materials from Supplier 1': <function get_scenario.<locals>.<lambda> at 0x000001A8B712EE50>, 'Obtain raw materials from Supplier 2': <function get_scenario.<locals>.<lambda> at 0x000001A8B712EF70>, 'Manufacture product': <function get_scenario.<locals>.<lambda> at 0x000001A8A9F810D0>, 'Retrieve product from warehouse': <function get_scenario.<locals>.<lambda> at 0x000001A8A9F811F0>, 'Confirm order': <function get_scenario.<locals>.<lambda> at 0x000001A8A9F81310>, 'Get shipping address': <function get_scenario.<locals>.<lambda> at 0x000001A8A9F81430>, 'Ship product': <function get_scenario.<locals>.<lambda> at 0x000001A8A9F81550>, 'Emit invoice': <function get_scenario.<locals>.<lambda> at 0x000001A8A9F81670>, 'Receive Payment': <function get_scenario.<locals>.<lambda> at 0x000001A8A9F81790>, 'Archieve order': <function get_scenario.<locals>.<lambda> at 0x000001A8A9F818B0>}}}\n"
     ]
    }
   ],
   "source": [
    "from source.misc import get_scenario\n",
    "\n",
    "unchanged_scenario = get_scenario(SIMULATION_DATA_DIR_PATH, 'Order-to-Cash_unchanged.csv')\n",
    "changed_scenario = get_scenario(SIMULATION_DATA_DIR_PATH, 'Order-to-Cash_changed.csv')\n",
    "\n",
    "print(unchanged_scenario)\n",
    "print(changed_scenario)"
   ]
  },
  {
   "source": [
    "It is hard to see, but all activities have been assigned functions to simulate the behavior in a process run. If we now applying these methods we obtaining a more realistic eventlog."
   ],
   "cell_type": "markdown",
   "metadata": {}
  },
  {
   "cell_type": "code",
   "execution_count": 7,
   "metadata": {},
   "outputs": [
    {
     "output_type": "stream",
     "name": "stdout",
     "text": [
      "                                concept:name      time:timestamp case:concept:name      time      cost\n0                   Check stock availability 1970-04-26 19:46:40             C0000  0.016667  1.833333\n1            Check raw materials availabilty 1970-04-26 19:46:41             C0000  0.016667  1.833333\n2      Request raw materials from Supplier 2 1970-04-26 19:46:42             C0000  0.019592  1.979600\n3      Request raw materials from Supplier 1 1970-04-26 19:46:43             C0000  0.018305  1.915268\n4       Obtain raw materials from Supplier 2 1970-04-26 19:46:44             C0000  0.014776  1.738783\n...                                      ...                 ...               ...       ...       ...\n10555                           Emit invoice 1970-04-26 22:42:35             C0999  0.016667  1.833333\n10556                        Receive Payment 1970-04-26 22:42:36             C0999  0.016667  1.833333\n10557                   Get shipping address 1970-04-26 22:42:37             C0999  0.016667  1.833333\n10558                           Ship product 1970-04-26 22:42:38             C0999  0.017948  1.897409\n10559                         Archieve order 1970-04-26 22:42:39             C0999  0.016667  1.833333\n\n[10560 rows x 5 columns]\n                           concept:name      time:timestamp case:concept:name      time      cost\n0              Check stock availability 1970-04-26 19:46:40             C0000  0.016667  1.833333\n1       Check raw materials availabilty 1970-04-26 19:46:41             C0000  0.016667  1.833333\n2     Notify unavailability to customer 1970-04-26 19:46:42             C0000  0.016667  1.833333\n3              Check stock availability 1970-04-26 19:46:43             C0001  0.016667  1.833333\n4       Check raw materials availabilty 1970-04-26 19:46:44             C0001  0.016667  1.833333\n...                                 ...                 ...               ...       ...       ...\n5595                      Confirm order 1970-04-26 21:19:55             C0999  0.016667  1.833333\n5596                       Ship product 1970-04-26 21:19:56             C0999  0.016721  1.836048\n5597                       Emit invoice 1970-04-26 21:19:57             C0999  0.016667  1.833333\n5598                    Receive Payment 1970-04-26 21:19:58             C0999  0.016667  1.833333\n5599                     Archieve order 1970-04-26 21:19:59             C0999  0.016667  1.833333\n\n[5600 rows x 5 columns]\n"
     ]
    }
   ],
   "source": [
    "from source.operation import apply_scenario\n",
    "\n",
    "unchanged_eventlog = apply_scenario(unchanged_eventlog, unchanged_scenario, activity_id)\n",
    "changed_eventlog = apply_scenario(changed_eventlog, changed_scenario, activity_id)\n",
    "print(unchanged_eventlog)\n",
    "print(changed_eventlog)"
   ]
  },
  {
   "source": [
    "To get now a more machine learning convenient view, we can now change the eventlogs into case tables."
   ],
   "cell_type": "markdown",
   "metadata": {}
  },
  {
   "cell_type": "code",
   "execution_count": 8,
   "metadata": {},
   "outputs": [
    {
     "output_type": "stream",
     "name": "stdout",
     "text": [
      "                   cost Archieve order  cost Check raw materials availabilty  cost Check stock availability  cost Confirm order  cost Emit invoice  cost Get shipping address  cost Manufacture product  cost Obtain raw materials from Supplier 1  cost Obtain raw materials from Supplier 2  cost Receive Payment  ...  Num of Emit invoice  Num of Get shipping address  Num of Manufacture product  Num of Obtain raw materials from Supplier 1  Num of Obtain raw materials from Supplier 2  Num of Receive Payment  Num of Request raw materials from Supplier 1  Num of Request raw materials from Supplier 2  Num of Retrieve product from warehouse  Num of Ship product\ncase:concept:name                                                                                                                                                                                                                                                                                                    ...                                                                                                                                                                                                                                                                                                                                                         \nC0000                         1.833333                              1.833333                       1.833333            1.833333           1.833333                   1.833333                  1.710768                                   1.841477                                   1.738783              1.833333  ...                  1.0                          1.0                         1.0                                          1.0                                          1.0                     1.0                                           1.0                                           1.0                                     0.0                  1.0\nC0001                         1.833333                              1.833333                       1.833333            1.833333           1.833333                   1.833333                  1.772133                                   1.886920                                   1.770402              1.833333  ...                  1.0                          1.0                         1.0                                          1.0                                          1.0                     1.0                                           1.0                                           1.0                                     0.0                  1.0\nC0002                         1.833333                              1.833333                       1.833333            1.833333           1.833333                   1.833333                  1.777703                                   1.817901                                   1.709320              1.833333  ...                  1.0                          1.0                         1.0                                          1.0                                          1.0                     1.0                                           1.0                                           1.0                                     0.0                  1.0\nC0003                         1.833333                              1.833333                       1.833333            1.833333           1.833333                   1.833333                  1.746846                                   1.873251                                   1.827572              1.833333  ...                  1.0                          1.0                         1.0                                          1.0                                          1.0                     1.0                                           1.0                                           1.0                                     0.0                  1.0\nC0004                         1.833333                              1.833333                       1.833333            1.833333           1.833333                   1.833333                  1.907698                                   1.877498                                   1.771248              1.833333  ...                  1.0                          1.0                         1.0                                          1.0                                          1.0                     1.0                                           1.0                                           1.0                                     0.0                  1.0\n...                                ...                                   ...                            ...                 ...                ...                        ...                       ...                                        ...                                        ...                   ...  ...                  ...                          ...                         ...                                          ...                                          ...                     ...                                           ...                                           ...                                     ...                  ...\nC0995                         1.833333                              0.000000                       1.833333            1.833333           1.833333                   1.833333                  0.000000                                   0.000000                                   0.000000              1.833333  ...                  1.0                          1.0                         0.0                                          0.0                                          0.0                     1.0                                           0.0                                           0.0                                     1.0                  1.0\nC0996                         1.833333                              1.833333                       1.833333            1.833333           1.833333                   1.833333                  1.802782                                   1.786912                                   1.623784              1.833333  ...                  1.0                          1.0                         1.0                                          1.0                                          1.0                     1.0                                           1.0                                           1.0                                     0.0                  1.0\nC0997                         1.833333                              1.833333                       1.833333            1.833333           1.833333                   1.833333                  1.819570                                   1.885923                                   1.808144              1.833333  ...                  1.0                          1.0                         1.0                                          1.0                                          1.0                     1.0                                           1.0                                           1.0                                     0.0                  1.0\nC0998                         1.833333                              0.000000                       1.833333            1.833333           1.833333                   1.833333                  0.000000                                   0.000000                                   0.000000              1.833333  ...                  1.0                          1.0                         0.0                                          0.0                                          0.0                     1.0                                           0.0                                           0.0                                     1.0                  1.0\nC0999                         1.833333                              0.000000                       1.833333            1.833333           1.833333                   1.833333                  0.000000                                   0.000000                                   0.000000              1.833333  ...                  1.0                          1.0                         0.0                                          0.0                                          0.0                     1.0                                           0.0                                           0.0                                     1.0                  1.0\n\n[1000 rows x 42 columns]\n                   cost Archieve order  cost Check raw materials availabilty  cost Check stock availability  cost Confirm order  cost Emit invoice  cost Get shipping address  cost Manufacture product  cost Notify unavailability to customer  cost Obtain raw materials from Supplier 1  cost Obtain raw materials from Supplier 2  ...  Num of Get shipping address  Num of Manufacture product  Num of Notify unavailability to customer  Num of Obtain raw materials from Supplier 1  Num of Obtain raw materials from Supplier 2  Num of Receive Payment  Num of Retrieve product from warehouse  Num of Ship product  Num of Start request raw materials from Supplier 1  Num of Start request raw materials from Supplier 2\ncase:concept:name                                                                                                                                                                                                                                                                                                                      ...                                                                                                                                                                                                                                                                                                                                                                                          \nC0000                         0.000000                              1.833333                       1.833333            0.000000           0.000000                   0.000000                  0.000000                                1.833333                                   0.000000                                    0.00000  ...                          0.0                         0.0                                       1.0                                          0.0                                          0.0                     0.0                                     0.0                  0.0                                                0.0                                                 0.0 \nC0001                         0.000000                              1.833333                       1.833333            0.000000           0.000000                   0.000000                  0.000000                                1.833333                                   0.000000                                    0.00000  ...                          0.0                         0.0                                       1.0                                          0.0                                          0.0                     0.0                                     0.0                  0.0                                                0.0                                                 0.0 \nC0002                         0.000000                              0.000000                       1.833333            1.833333           0.000000                   0.000000                  0.000000                                0.000000                                   0.000000                                    0.00000  ...                          0.0                         0.0                                       0.0                                          0.0                                          0.0                     0.0                                     1.0                  0.0                                                0.0                                                 0.0 \nC0003                         0.000000                              1.833333                       1.833333            0.000000           0.000000                   0.000000                  0.000000                                1.833333                                   0.000000                                    0.00000  ...                          0.0                         0.0                                       1.0                                          0.0                                          0.0                     0.0                                     0.0                  0.0                                                0.0                                                 0.0 \nC0004                         0.000000                              1.833333                       1.833333            0.000000           0.000000                   0.000000                  0.000000                                1.833333                                   0.000000                                    0.00000  ...                          0.0                         0.0                                       1.0                                          0.0                                          0.0                     0.0                                     0.0                  0.0                                                0.0                                                 0.0 \n...                                ...                                   ...                            ...                 ...                ...                        ...                       ...                                     ...                                        ...                                        ...  ...                          ...                         ...                                       ...                                          ...                                          ...                     ...                                     ...                  ...                                                ...                                                 ... \nC0995                         0.000000                              1.833333                       1.833333            0.000000           0.000000                   0.000000                  0.000000                                1.833333                                   0.000000                                    0.00000  ...                          0.0                         0.0                                       1.0                                          0.0                                          0.0                     0.0                                     0.0                  0.0                                                0.0                                                 0.0 \nC0996                         0.000000                              1.833333                       1.833333            0.000000           0.000000                   0.000000                  0.000000                                1.833333                                   0.000000                                    0.00000  ...                          0.0                         0.0                                       1.0                                          0.0                                          0.0                     0.0                                     0.0                  0.0                                                0.0                                                 0.0 \nC0997                         0.000000                              0.000000                       1.833333            1.833333           0.000000                   0.000000                  0.000000                                0.000000                                   0.000000                                    0.00000  ...                          0.0                         0.0                                       0.0                                          0.0                                          0.0                     0.0                                     1.0                  0.0                                                0.0                                                 0.0 \nC0998                         0.000000                              0.000000                       1.833333            1.833333           0.000000                   0.000000                  0.000000                                0.000000                                   0.000000                                    0.00000  ...                          0.0                         0.0                                       0.0                                          0.0                                          0.0                     0.0                                     1.0                  0.0                                                0.0                                                 0.0 \nC0999                         1.833333                              1.833333                       1.833333            1.833333           1.833333                   1.833333                  1.733186                                0.000000                                   1.860929                                    1.79247  ...                          1.0                         1.0                                       0.0                                          1.0                                          1.0                     1.0                                     0.0                  1.0                                                1.0                                                 1.0 \n\n[1000 rows x 45 columns]\n"
     ]
    }
   ],
   "source": [
    "from source.operation import to_case_table\n",
    "\n",
    "unchanged_case_table = to_case_table(unchanged_eventlog, case_id, activity_id, fillna=0, aggregate={'cost':'sum','time':'sum'})\n",
    "changed_case_table = to_case_table(changed_eventlog, case_id, activity_id, fillna=0, aggregate={'cost':'sum','time':'sum'})\n",
    "\n",
    "print(unchanged_case_table)\n",
    "print(changed_case_table)"
   ]
  },
  {
   "source": [
    "Finally, we can apply the defined rules and calculate the result."
   ],
   "cell_type": "markdown",
   "metadata": {}
  },
  {
   "cell_type": "code",
   "execution_count": 9,
   "metadata": {},
   "outputs": [
    {
     "output_type": "stream",
     "name": "stdout",
     "text": [
      "    case:concept:name  cost Archieve order  cost Check raw materials availabilty  cost Check stock availability  cost Confirm order  cost Emit invoice  cost Get shipping address  cost Manufacture product  cost Obtain raw materials from Supplier 1  cost Obtain raw materials from Supplier 2  ...  Num of Manufacture product  Num of Obtain raw materials from Supplier 1  Num of Obtain raw materials from Supplier 2  Num of Receive Payment  Num of Request raw materials from Supplier 1  Num of Request raw materials from Supplier 2  Num of Retrieve product from warehouse  Num of Ship product      time       cost\n0               C0000             1.833333                              1.833333                       1.833333            1.833333           1.833333                   1.833333                  1.710768                                   1.841477                                   1.738783  ...                         1.0                                          1.0                                          1.0                     1.0                                           1.0                                           1.0                                     0.0                  1.0  0.149350  23.837021\n1               C0001             1.833333                              1.833333                       1.833333            1.833333           1.833333                   1.833333                  1.772133                                   1.886920                                   1.770402  ...                         1.0                                          1.0                                          1.0                     1.0                                           1.0                                           1.0                                     0.0                  1.0  0.151584  23.884546\n2               C0002             1.833333                              1.833333                       1.833333            1.833333           1.833333                   1.833333                  1.777703                                   1.817901                                   1.709320  ...                         1.0                                          1.0                                          1.0                     1.0                                           1.0                                           1.0                                     0.0                  1.0  0.149467  23.740897\n3               C0003             1.833333                              1.833333                       1.833333            1.833333           1.833333                   1.833333                  1.746846                                   1.873251                                   1.827572  ...                         1.0                                          1.0                                          1.0                     1.0                                           1.0                                           1.0                                     0.0                  1.0  0.147656  23.468269\n4               C0004             1.833333                              1.833333                       1.833333            1.833333           1.833333                   1.833333                  1.907698                                   1.877498                                   1.771248  ...                         1.0                                          1.0                                          1.0                     1.0                                           1.0                                           1.0                                     0.0                  1.0  0.150583  23.754864\n..                ...                  ...                                   ...                            ...                 ...                ...                        ...                       ...                                        ...                                        ...  ...                         ...                                          ...                                          ...                     ...                                           ...                                           ...                                     ...                  ...       ...        ...\n995             C0995             1.833333                              0.000000                       1.833333            1.833333           1.833333                   1.833333                  0.000000                                   0.000000                                   0.000000  ...                         0.0                                          0.0                                          0.0                     1.0                                           0.0                                           0.0                                     1.0                  1.0  0.101268  14.730090\n996             C0996             1.833333                              1.833333                       1.833333            1.833333           1.833333                   1.833333                  1.802782                                   1.786912                                   1.623784  ...                         1.0                                          1.0                                          1.0                     1.0                                           1.0                                           1.0                                     0.0                  1.0  0.152352  23.665691\n997             C0997             1.833333                              1.833333                       1.833333            1.833333           1.833333                   1.833333                  1.819570                                   1.885923                                   1.808144  ...                         1.0                                          1.0                                          1.0                     1.0                                           1.0                                           1.0                                     0.0                  1.0  0.148906  23.661590\n998             C0998             1.833333                              0.000000                       1.833333            1.833333           1.833333                   1.833333                  0.000000                                   0.000000                                   0.000000  ...                         0.0                                          0.0                                          0.0                     1.0                                           0.0                                           0.0                                     1.0                  1.0  0.094354  14.383722\n999             C0999             1.833333                              0.000000                       1.833333            1.833333           1.833333                   1.833333                  0.000000                                   0.000000                                   0.000000  ...                         0.0                                          0.0                                          0.0                     1.0                                           0.0                                           0.0                                     1.0                  1.0  0.100870  14.710189\n\n[1000 rows x 45 columns]\n    case:concept:name  cost Archieve order  cost Check raw materials availabilty  cost Check stock availability  cost Confirm order  cost Emit invoice  cost Get shipping address  cost Manufacture product  cost Notify unavailability to customer  cost Obtain raw materials from Supplier 1  ...  Num of Notify unavailability to customer  Num of Obtain raw materials from Supplier 1  Num of Obtain raw materials from Supplier 2  Num of Receive Payment  Num of Retrieve product from warehouse  Num of Ship product  Num of Start request raw materials from Supplier 1  Num of Start request raw materials from Supplier 2      time       cost\n0               C0000             0.000000                              1.833333                       1.833333            0.000000           0.000000                   0.000000                  0.000000                                1.833333                                   0.000000  ...                                       1.0                                          0.0                                          0.0                     0.0                                     0.0                  0.0                                                0.0                                                 0.0   0.050000   5.500000\n1               C0001             0.000000                              1.833333                       1.833333            0.000000           0.000000                   0.000000                  0.000000                                1.833333                                   0.000000  ...                                       1.0                                          0.0                                          0.0                     0.0                                     0.0                  0.0                                                0.0                                                 0.0   0.050000   5.500000\n2               C0002             0.000000                              0.000000                       1.833333            1.833333           0.000000                   0.000000                  0.000000                                0.000000                                   0.000000  ...                                       0.0                                          0.0                                          0.0                     0.0                                     1.0                  0.0                                                0.0                                                 0.0   0.050794   5.539714\n3               C0003             0.000000                              1.833333                       1.833333            0.000000           0.000000                   0.000000                  0.000000                                1.833333                                   0.000000  ...                                       1.0                                          0.0                                          0.0                     0.0                                     0.0                  0.0                                                0.0                                                 0.0   0.050000   5.500000\n4               C0004             0.000000                              1.833333                       1.833333            0.000000           0.000000                   0.000000                  0.000000                                1.833333                                   0.000000  ...                                       1.0                                          0.0                                          0.0                     0.0                                     0.0                  0.0                                                0.0                                                 0.0   0.050000   5.500000\n..                ...                  ...                                   ...                            ...                 ...                ...                        ...                       ...                                     ...                                        ...  ...                                       ...                                          ...                                          ...                     ...                                     ...                  ...                                                ...                                                 ...        ...        ...\n995             C0995             0.000000                              1.833333                       1.833333            0.000000           0.000000                   0.000000                  0.000000                                1.833333                                   0.000000  ...                                       1.0                                          0.0                                          0.0                     0.0                                     0.0                  0.0                                                0.0                                                 0.0   0.050000   5.500000\n996             C0996             0.000000                              1.833333                       1.833333            0.000000           0.000000                   0.000000                  0.000000                                1.833333                                   0.000000  ...                                       1.0                                          0.0                                          0.0                     0.0                                     0.0                  0.0                                                0.0                                                 0.0   0.050000   5.500000\n997             C0997             0.000000                              0.000000                       1.833333            1.833333           0.000000                   0.000000                  0.000000                                0.000000                                   0.000000  ...                                       0.0                                          0.0                                          0.0                     0.0                                     1.0                  0.0                                                0.0                                                 0.0   0.048670   5.433475\n998             C0998             0.000000                              0.000000                       1.833333            1.833333           0.000000                   0.000000                  0.000000                                0.000000                                   0.000000  ...                                       0.0                                          0.0                                          0.0                     0.0                                     1.0                  0.0                                                0.0                                                 0.0   0.048997   5.449861\n999             C0999             1.833333                              1.833333                       1.833333            1.833333           1.833333                   1.833333                  1.733186                                0.000000                                   1.860929  ...                                       0.0                                          1.0                                          1.0                     1.0                                     0.0                  1.0                                                1.0                                                 1.0   0.165216  23.722633\n\n[1000 rows x 48 columns]\n"
     ]
    }
   ],
   "source": [
    "from source.operation import calculate_outcome\n",
    "\n",
    "unchanged_ruleset = {'time':unchanged_basic_ruleset,'cost':None}\n",
    "changed_ruleset = {'time':changed_basic_ruleset,'cost':None}\n",
    "\n",
    "unchanged_case_table = calculate_outcome(unchanged_case_table, unchanged_ruleset)\n",
    "changed_case_table = calculate_outcome(changed_case_table, changed_ruleset)\n",
    "\n",
    "print(unchanged_case_table)\n",
    "print(changed_case_table)\n",
    "\n",
    "unchanged_case_table.to_csv(CASE_TABLE_DIR_PATH/'unchanged.csv', index=False)\n",
    "changed_case_table.to_csv(CASE_TABLE_DIR_PATH/'changed.csv', index=False)"
   ]
  }
 ],
 "metadata": {
  "kernelspec": {
   "name": "python3",
   "display_name": "Python 3.8.7 64-bit ('Python38')"
  },
  "language_info": {
   "codemirror_mode": {
    "name": "ipython",
    "version": 3
   },
   "file_extension": ".py",
   "mimetype": "text/x-python",
   "name": "python",
   "nbconvert_exporter": "python",
   "pygments_lexer": "ipython3",
   "version": "3.8.7"
  },
  "metadata": {
   "interpreter": {
    "hash": "1320575ca659531d6c822f03cc70ca5358e10b1b7df17adef811d6bdce8e5d4c"
   }
  },
  "interpreter": {
   "hash": "1320575ca659531d6c822f03cc70ca5358e10b1b7df17adef811d6bdce8e5d4c"
  }
 },
 "nbformat": 4,
 "nbformat_minor": 5
}