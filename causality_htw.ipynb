{
 "cells": [
  {
   "source": [
    "# Prozess Causality Project\n",
    "## First attempts\n",
    "The basic idea is to compare two processes of the same origin. To do this, we first examined the resources publicly available on the Internet. Since this use case is rather uncommon, we found that the possibilities are quickly exhausted. However, the research and feedback revealed that probably the BPI, which organizes an annual challange, used the same data source twice. Under this pretext, we were able to find the following sources:\n",
    "\n",
    "| Challange | Link | File |\n",
    "|:--- |:--- |:--- |\n",
    "| 2012 | https://www.win.tue.nl/bpi/doku.php?id=2012:challenge | financial_log.xes.gz |\n",
    "| 2017 | https://www.win.tue.nl/bpi/doku.php?id=2017:challenge | BPI Challenge 2017.xes.gz |\n"
   ],
   "cell_type": "markdown",
   "metadata": {}
  },
  {
   "cell_type": "code",
   "execution_count": 4,
   "id": "cde8854b",
   "metadata": {},
   "outputs": [
    {
     "output_type": "stream",
     "name": "stderr",
     "text": [
      "parsing log, completed traces :: 100%|██████████| 13087/13087 [00:05<00:00, 2202.87it/s]\n",
      "parsing log, completed traces :: 100%|██████████| 31509/31509 [00:37<00:00, 849.91it/s] \n",
      "       org:resource lifecycle:transition            concept:name  \\\n",
      "0               112             COMPLETE             A_SUBMITTED   \n",
      "1               112             COMPLETE       A_PARTLYSUBMITTED   \n",
      "2               112             COMPLETE           A_PREACCEPTED   \n",
      "3               112             SCHEDULE  W_Completeren aanvraag   \n",
      "4               NaN                START  W_Completeren aanvraag   \n",
      "...             ...                  ...                     ...   \n",
      "262195          112             COMPLETE       A_PARTLYSUBMITTED   \n",
      "262196          112             SCHEDULE      W_Afhandelen leads   \n",
      "262197        11169                START      W_Afhandelen leads   \n",
      "262198        11169             COMPLETE              A_DECLINED   \n",
      "262199        11169             COMPLETE      W_Afhandelen leads   \n",
      "\n",
      "                          time:timestamp                     case:REG_DATE  \\\n",
      "0       2011-10-01 00:38:44.546000+02:00  2011-10-01 00:38:44.546000+02:00   \n",
      "1       2011-10-01 00:38:44.880000+02:00  2011-10-01 00:38:44.546000+02:00   \n",
      "2       2011-10-01 00:39:37.906000+02:00  2011-10-01 00:38:44.546000+02:00   \n",
      "3       2011-10-01 00:39:38.875000+02:00  2011-10-01 00:38:44.546000+02:00   \n",
      "4       2011-10-01 11:36:46.437000+02:00  2011-10-01 00:38:44.546000+02:00   \n",
      "...                                  ...                               ...   \n",
      "262195  2012-02-29 23:51:17.423000+01:00  2012-02-29 23:51:16.799000+01:00   \n",
      "262196  2012-02-29 23:52:01.287000+01:00  2012-02-29 23:51:16.799000+01:00   \n",
      "262197  2012-03-01 09:26:46.736000+01:00  2012-02-29 23:51:16.799000+01:00   \n",
      "262198  2012-03-01 09:27:37.118000+01:00  2012-02-29 23:51:16.799000+01:00   \n",
      "262199  2012-03-01 09:27:41.325000+01:00  2012-02-29 23:51:16.799000+01:00   \n",
      "\n",
      "       case:concept:name case:AMOUNT_REQ  \n",
      "0                 173688           20000  \n",
      "1                 173688           20000  \n",
      "2                 173688           20000  \n",
      "3                 173688           20000  \n",
      "4                 173688           20000  \n",
      "...                  ...             ...  \n",
      "262195            214376           15000  \n",
      "262196            214376           15000  \n",
      "262197            214376           15000  \n",
      "262198            214376           15000  \n",
      "262199            214376           15000  \n",
      "\n",
      "[262200 rows x 7 columns]\n",
      "              Action org:resource            concept:name  EventOrigin  \\\n",
      "0            Created       User_1    A_Create Application  Application   \n",
      "1        statechange       User_1             A_Submitted  Application   \n",
      "2            Created       User_1          W_Handle leads     Workflow   \n",
      "3            Deleted       User_1          W_Handle leads     Workflow   \n",
      "4            Created       User_1  W_Complete application     Workflow   \n",
      "...              ...          ...                     ...          ...   \n",
      "1202262      Deleted       User_1     W_Call after offers     Workflow   \n",
      "1202263      Created       User_1     W_Call after offers     Workflow   \n",
      "1202264  statechange      User_28             A_Cancelled  Application   \n",
      "1202265  statechange      User_28             O_Cancelled        Offer   \n",
      "1202266      Deleted      User_28     W_Call after offers     Workflow   \n",
      "\n",
      "                       EventID lifecycle:transition  \\\n",
      "0        Application_652823628             complete   \n",
      "1         ApplState_1582051990             complete   \n",
      "2          Workitem_1298499574             schedule   \n",
      "3          Workitem_1673366067             withdraw   \n",
      "4          Workitem_1493664571             schedule   \n",
      "...                        ...                  ...   \n",
      "1202262    Workitem_1817549786            ate_abort   \n",
      "1202263     Workitem_363876066             schedule   \n",
      "1202264   ApplState_1869071797             complete   \n",
      "1202265   OfferState_420066181             complete   \n",
      "1202266    Workitem_1934044935             withdraw   \n",
      "\n",
      "                          time:timestamp           case:LoanGoal  \\\n",
      "0       2016-01-01 09:51:15.304000+00:00  Existing loan takeover   \n",
      "1       2016-01-01 09:51:15.352000+00:00  Existing loan takeover   \n",
      "2       2016-01-01 09:51:15.774000+00:00  Existing loan takeover   \n",
      "3       2016-01-01 09:52:36.392000+00:00  Existing loan takeover   \n",
      "4       2016-01-01 09:52:36.403000+00:00  Existing loan takeover   \n",
      "...                                  ...                     ...   \n",
      "1202262 2017-01-06 06:33:02.212000+00:00        Home improvement   \n",
      "1202263 2017-01-06 06:33:02.221000+00:00        Home improvement   \n",
      "1202264 2017-01-16 09:51:21.114000+00:00        Home improvement   \n",
      "1202265 2017-01-16 09:51:21.139000+00:00        Home improvement   \n",
      "1202266 2017-01-16 09:51:21.146000+00:00        Home improvement   \n",
      "\n",
      "        case:ApplicationType       case:concept:name  case:RequestedAmount  \\\n",
      "0                 New credit   Application_652823628               20000.0   \n",
      "1                 New credit   Application_652823628               20000.0   \n",
      "2                 New credit   Application_652823628               20000.0   \n",
      "3                 New credit   Application_652823628               20000.0   \n",
      "4                 New credit   Application_652823628               20000.0   \n",
      "...                      ...                     ...                   ...   \n",
      "1202262           New credit  Application_1350494635               20000.0   \n",
      "1202263           New credit  Application_1350494635               20000.0   \n",
      "1202264           New credit  Application_1350494635               20000.0   \n",
      "1202265           New credit  Application_1350494635               20000.0   \n",
      "1202266           New credit  Application_1350494635               20000.0   \n",
      "\n",
      "         FirstWithdrawalAmount  NumberOfTerms Accepted  MonthlyCost Selected  \\\n",
      "0                          NaN            NaN      NaN          NaN      NaN   \n",
      "1                          NaN            NaN      NaN          NaN      NaN   \n",
      "2                          NaN            NaN      NaN          NaN      NaN   \n",
      "3                          NaN            NaN      NaN          NaN      NaN   \n",
      "4                          NaN            NaN      NaN          NaN      NaN   \n",
      "...                        ...            ...      ...          ...      ...   \n",
      "1202262                    NaN            NaN      NaN          NaN      NaN   \n",
      "1202263                    NaN            NaN      NaN          NaN      NaN   \n",
      "1202264                    NaN            NaN      NaN          NaN      NaN   \n",
      "1202265                    NaN            NaN      NaN          NaN      NaN   \n",
      "1202266                    NaN            NaN      NaN          NaN      NaN   \n",
      "\n",
      "         CreditScore  OfferedAmount           OfferID  \n",
      "0                NaN            NaN               NaN  \n",
      "1                NaN            NaN               NaN  \n",
      "2                NaN            NaN               NaN  \n",
      "3                NaN            NaN               NaN  \n",
      "4                NaN            NaN               NaN  \n",
      "...              ...            ...               ...  \n",
      "1202262          NaN            NaN               NaN  \n",
      "1202263          NaN            NaN               NaN  \n",
      "1202264          NaN            NaN               NaN  \n",
      "1202265          NaN            NaN  Offer_1580299144  \n",
      "1202266          NaN            NaN               NaN  \n",
      "\n",
      "[1202267 rows x 19 columns]\n"
     ]
    }
   ],
   "source": [
    "from pm4py import read_xes\n",
    "from pm4py import convert_to_dataframe as as_frame\n",
    "from environment import *\n",
    "bpi2012 = as_frame(read_xes(str(XES_LOGS_DIR_PATH/'financial_log.xes.gz')))\n",
    "bpi2017 = as_frame(read_xes(str(XES_LOGS_DIR_PATH/'BPI Challenge 2017.xes.gz')))\n",
    "print(bpi2012)\n",
    "print(bpi2017)"
   ]
  },
  {
   "source": [
    "## Loading\n",
    "First of all we should load our event logs. Additionally the loaded logs will be transformed to a pandas dataframe and saved as a csv file."
   ],
   "cell_type": "markdown",
   "metadata": {}
  },
  {
   "cell_type": "code",
   "execution_count": 2,
   "metadata": {},
   "outputs": [
    {
     "output_type": "stream",
     "name": "stderr",
     "text": [
      "parsing log, completed traces :: 100%|██████████| 13087/13087 [00:05<00:00, 2237.70it/s]\n",
      "parsing log, completed traces :: 100%|██████████| 31509/31509 [00:35<00:00, 880.82it/s]\n"
     ]
    }
   ],
   "source": [
    "unchanged_log = pm.read_xes(str(unchanged_process_xes))\n",
    "changed_log = pm.read_xes(str(changed_process_xes))\n",
    "\n",
    "unchanged_frame = pm.convert_to_dataframe(unchanged_log)\n",
    "changed_frame = pm.convert_to_dataframe(changed_log)\n",
    "\n",
    "unchanged_frame.to_csv(csv_directory/(unchanged_process_xes.stem+'.csv'))\n",
    "changed_frame.to_csv(csv_directory/(changed_process_xes.stem+'.csv'))"
   ]
  },
  {
   "source": [
    "## Case Tables\n",
    "The next thing to do is to create a case table, where the case informations are mapped to a kpi. For example we are using the absolute passed time from start of the process to end of the process."
   ],
   "cell_type": "markdown",
   "metadata": {}
  },
  {
   "cell_type": "code",
   "execution_count": 5,
   "metadata": {},
   "outputs": [],
   "source": [
    "\n",
    "case_id = 'case:concept:name'\n",
    "activity_names = 'concept:name'\n",
    "\n",
    "unchanged_cases = unchanged_frame[case_id].unique().tolist()\n",
    "unchanged_activities = unchanged_frame[activity_names].drop_duplicates()\n",
    "\n",
    "changed_cases = changed_frame[case_id].unique().tolist()\n",
    "changed_activities = changed_frame[activity_names].drop_duplicates()\n",
    "\n",
    "def to_case_table(cases, activities, frame):\n",
    "    case_table = []\n",
    "    for case in cases:\n",
    "        case_log = frame[frame[case_id]==case]\n",
    "        time = (case_log['time:timestamp'].max()-case_log['time:timestamp'].min()).total_seconds()/60/60\n",
    "        keys = activities.to_list()\n",
    "        values = activities.isin(case_log[activity_names]).to_list()\n",
    "        for key in pd.Series(keys)[values]:\n",
    "            values[keys.index(key)] = len(case_log[case_log[activity_names]==key])\n",
    "        for i in range(0,len(values)):\n",
    "            values[i] = int(values[i])\n",
    "        case_entry = dict(zip(['case_id']+keys+['time'],[case]+values+[time]))\n",
    "        case_table.append(case_entry)\n",
    "    return pd.DataFrame(case_table)\n",
    "\n",
    "unchanged_case_table = pd.DataFrame(to_case_table(unchanged_cases, unchanged_activities, unchanged_frame))\n",
    "unchanged_case_table.to_csv(case_tables_directory/(unchanged_process_xes.stem+'case_table.csv'))\n",
    "\n",
    "changed_case_table = pd.DataFrame(to_case_table(changed_cases, changed_activities, changed_frame))\n",
    "changed_case_table.to_csv(case_tables_directory/(changed_process_xes.stem+'case_table.csv'))"
   ]
  },
  {
   "cell_type": "code",
   "execution_count": null,
   "metadata": {},
   "outputs": [],
   "source": []
  }
 ],
 "metadata": {
  "kernelspec": {
   "name": "python3",
   "display_name": "Python 3.8.7 64-bit ('Python38')"
  },
  "language_info": {
   "codemirror_mode": {
    "name": "ipython",
    "version": 3
   },
   "file_extension": ".py",
   "mimetype": "text/x-python",
   "name": "python",
   "nbconvert_exporter": "python",
   "pygments_lexer": "ipython3",
   "version": "3.8.7"
  },
  "metadata": {
   "interpreter": {
    "hash": "1320575ca659531d6c822f03cc70ca5358e10b1b7df17adef811d6bdce8e5d4c"
   }
  },
  "interpreter": {
   "hash": "1320575ca659531d6c822f03cc70ca5358e10b1b7df17adef811d6bdce8e5d4c"
  }
 },
 "nbformat": 4,
 "nbformat_minor": 5
}